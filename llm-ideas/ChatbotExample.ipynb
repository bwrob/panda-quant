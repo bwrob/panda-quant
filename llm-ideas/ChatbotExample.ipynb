{
 "cells": [
  {
   "cell_type": "code",
   "execution_count": 380,
   "metadata": {},
   "outputs": [],
   "source": [
    "from langchain.embeddings.openai import OpenAIEmbeddings\n",
    "from langchain.vectorstores import Chroma\n",
    "from langchain.text_splitter import CharacterTextSplitter\n",
    "from langchain import OpenAI, VectorDBQA\n",
    "from langchain.document_loaders import DirectoryLoader\n",
    "from langchain.chains import RetrievalQA\n",
    "from langchain.llms import OpenAI\n",
    "from langchain.document_loaders import PyPDFLoader\n",
    "from langchain.vectorstores import FAISS\n",
    "from langchain.prompts.example_selector import SemanticSimilarityExampleSelector\n",
    "from langchain.vectorstores import Chroma\n",
    "from langchain.embeddings import OpenAIEmbeddings\n",
    "from langchain.prompts import PromptTemplate\n"
   ]
  },
  {
   "cell_type": "code",
   "execution_count": 381,
   "metadata": {},
   "outputs": [],
   "source": [
    "import os\n",
    "import openai\n",
    "\n",
    "os.environ[\"OPENAI_API_KEY\"] = \"your key here\"\n",
    "openai.api_key = \"your key here\""
   ]
  },
  {
   "cell_type": "code",
   "execution_count": 382,
   "metadata": {},
   "outputs": [],
   "source": [
    "from numpy import dot\n",
    "from numpy.linalg import norm\n",
    "\n",
    "def cosine_similarity(list_1, list_2):\n",
    "    cos_sim = dot(list_1, list_2) / (norm(list_1) * norm(list_2))\n",
    "    return cos_sim"
   ]
  },
  {
   "cell_type": "code",
   "execution_count": 403,
   "metadata": {},
   "outputs": [],
   "source": [
    "template = \"\"\"\n",
    "You are an agent that will read a message from a fx trader and you will decipher the message to a json file so that you can feed it to an api. The JSON consist of the following terms\n",
    "\n",
    "Entity -\n",
    "Text, only allow EB or IB, EB refers to the European Bank or known as SANV, SA/NV, SA, IB is the institional bank and should be the default if it is not clear\n",
    "Counterparty - \n",
    "This must be a 4 letter code referring to what the trade is with, for example DEUT, NFXL\n",
    "Notional - \n",
    "This should be the notional amount of the trade entered as a number, note that conventionally if the number is small and less than 1000 then the conventions are the following\n",
    "25 means 25000000\n",
    "2.5 means 2500000\n",
    "45.3mio or 45.3m means  45300000\n",
    "2.56 yds or yards means 2560000000\n",
    "This must be present otherwise the trade is invalid and the output should say so\n",
    "Notional_Currency - This is the currency of the notional of the trade\n",
    "Currency1 - The first 3 letter currency imentioned in a pair, if the currency is not specified, assume it is USD\n",
    "Currency2 - The second 3 letter currency mentioned in a pair, if the currency is not specified, assume it is USD\n",
    "Trade Type - Text field, it can be swap, ndf, if nothing mentioned, it is likely to be swap, an outright trade is a swap with first leg as o/n\n",
    "Direction - It is either BS or SB based the the currency pair, if nothing is mentioned, it is TwoWay\n",
    "Tenor - Length of the trade can be overnight which will be \"o/n\" can be given as \"on\", tomorrow night as \"tn\" or \"t/n\", then standard tenors like 30D, 1M ..etc. you may have to translate this tenor\n",
    "If you are not able to populate all the fields, tell the user the trade is incomplete and why\n",
    "if you have something like sp-1m, this means tenor is \"on\" and TenorEnd is \"1M\"\n",
    "TenorEnd - Should bet the end date of swap, use the samec conventions as Tenor\n",
    "\n",
    "{examples_list}\n",
    "\n",
    "{format_instructions}\n",
    "\n",
    "Input: {input}\n",
    "Output:\n",
    "\"\"\""
   ]
  },
  {
   "cell_type": "code",
   "execution_count": 404,
   "metadata": {},
   "outputs": [],
   "source": [
    "model_name = 'text-davinci-003'\n",
    "temperature = 0.0\n",
    "model = OpenAI(model_name=model_name, temperature=temperature)"
   ]
  },
  {
   "cell_type": "code",
   "execution_count": 405,
   "metadata": {},
   "outputs": [
    {
     "name": "stderr",
     "output_type": "stream",
     "text": [
      "Using embedded DuckDB without persistence: data will be transient\n"
     ]
    }
   ],
   "source": [
    "\n",
    "example_prompt = PromptTemplate(\n",
    "    input_variables=[\"input\", \"output\"],\n",
    "    template=\"Input: {input}\\nOutput: {output}\",\n",
    ")\n",
    "\n",
    "examples = [\n",
    "    {\"input\": \"second trade: can i please trade $25 USDCNH 6month swap with NFXL\", \n",
    "     \"output\": \"\"\"{ \"Entity\" : \"IB\", \"Counterparty\" : \"NFXL\", \"Notional\" : 25000000, \"Notional_currency\" : \"USD\", \"Currency1\" : \"USD\", \"Currency2\" : \"CNH\", \"Trade_type\" : \"swap\", \"Direction\" : \"TwoWay\", \"Tenor\" : \"ON\", \"TenorEnd\" : \"6M\" }\"\"\"},\n",
    "    {\"input\": \"Can IB b/s 300mio dkk vs usd t/n with NFXL asking for apporval\", \n",
    "     \"output\": \"\"\"{ \"Entity\" : \"IB\", \"Counterparty\" : \"NFXL\", \"Notional\" : 300000000, \"Notional_currency\" : \"DKK\", \"Currency1\" : \"DKK\", \"Currency2\" : \"USD\", \"Trade_type\" : \"swap\", \"Direction\" : \"BS\", \"Tenor\" : \"ON\", \"TenorEnd\" : \"TN\" }\"\"\"},\n",
    "    {\"input\": \"can i please trade about $4 usdthb 3M swap with DEUL on sa\", \n",
    "     \"output\": \"\"\"{ \"Entity\" : \"EB\", \"Counterparty\" : \"DEUL\", \"Notional\" : 4000000, \"Notional_currency\" : \"USD\", \"Currency1\" : \"USD\", \"Currency2\" : \"THB\", \"Trade_type\" : \"swap\", \"Direction\" : \"TwoWay\", \"Tenor\" : \"ON\", \"TenorEnd\" : \"3M\" }\"\"\"},\n",
    "    {\"input\": \"b/s thb vs dkk ndf 1m swap jpm\", \n",
    "     \"output\": \"error - no notional defined\"},\n",
    "    {\"input\": \"Can sanv do ils sp-1m with hsbc?\",\n",
    "     \"output\": \"error - no notional defined\"},\n",
    "    {\"input\": \"Can sanv do 24.55mio ils sp-1m with hsbc?\",\n",
    "     \"output\": \"\"\"{ \"Entity\" : \"EB\", \"Counterparty\" : \"HSBC\", \"Notional\" : 24550000, \"Notional_currency\" : \"ILS\", \"Currency1\" : \"ILS\", \"Currency2\" : \"USD\", \"Trade_type\" : \"swap\", \"Direction\" : \"TwoWay\", \"Tenor\" : \"ON\", \"TenorEnd\" : \"1M\" }\"\"\"},\n",
    "    {\"input\": \"b/s 2yds thb vs dkk ndf 1m ndf with jpm\",\n",
    "     \"output\": \"\"\"{ \"Entity\" : \"IB\", \"Counterparty\" : \"JPM\", \"Notional\" : 2000000000, \"Notional_currency\" : \"THB\", \"Currency1\" : \"THB\", \"Currency2\" : \"DKK\", \"Trade_type\" : \"ndf\", \"Direction\" : \"TwoWay\", \"Tenor\" : \"ON\", \"TenorEnd\" : \"1M\" }\"\"\"},\n",
    "    {\"input\": \"another ccar ask, $2 usdinr outright 1m ag sgel\",\n",
    "     \"output\": \"\"\"{ \"Entity\" : \"IB\", \"Counterparty\" : \"SGEL\", \"Notional\" : 2000000, \"Notional_currency\" : \"USD\", \"Currency1\" : \"USD\", \"Currency2\" : \"INR\", \"Trade_type\" : \"swap\", \"Direction\" : \"TwoWay\", \"Tenor\" : \"ON\", \"TenorEnd\" : \"1M\" }\"\"\"}\n",
    "]\n",
    "\n",
    "example_selector = SemanticSimilarityExampleSelector.from_examples(examples, OpenAIEmbeddings(), Chroma, k=5)"
   ]
  },
  {
   "cell_type": "code",
   "execution_count": 406,
   "metadata": {},
   "outputs": [],
   "source": [
    "from pydantic import BaseModel, Field, validator\n",
    "from langchain.output_parsers import PydanticOutputParser, OutputFixingParser\n",
    "from typing import Union, Optional\n",
    "from enum import Enum\n",
    "\n",
    "# Define your desired data structure.\n",
    "class Tenor(str, Enum):\n",
    "    ON = \"ON\"\n",
    "    TN = \"TN\"\n",
    "    \n",
    "class TradeData(BaseModel):\n",
    "    Entity: str\n",
    "    Counterparty: str\n",
    "    Notional: int\n",
    "    Notional_Currency: str\n",
    "    Currency1: str\n",
    "    Currency2: str\n",
    "    Trade_Type: str\n",
    "    Direction: str\n",
    "    Tenor: Union[int, str, Tenor]\n",
    "    TenorEnd: Union[int, str, Tenor]\n",
    "    \n",
    "    @validator('Tenor', 'TenorEnd')\n",
    "    def validate_tenor(cls, v):\n",
    "        if isinstance(v, int):\n",
    "            return v\n",
    "        elif v.upper() == \"ON\":\n",
    "            return Tenor.ON\n",
    "        elif v.upper() == \"TN\":\n",
    "            return Tenor.TN\n",
    "        else:\n",
    "            try:\n",
    "                if v[-1].lower() == 'd':\n",
    "                    return int(v[:-1])\n",
    "                elif v[-1].lower() == 'm':\n",
    "                    return int(v[:-1]) * 30\n",
    "                elif v[-1].lower() == 'y':\n",
    "                    return int(v[:-1]) * 365\n",
    "                else:\n",
    "                    raise ValueError\n",
    "            except:\n",
    "                raise ValueError('Invalid tenor value')\n",
    "    \n",
    "class Trade(BaseModel):\n",
    "    input: str = Field(description=\"the chat input from the chat\")\n",
    "    trade_json: Optional[TradeData] = Field(None, description=\"trade represented as json\")\n",
    "    error: Optional[str] = Field(None, description=\"error message if there are any\")\n",
    "\n",
    "# Set up a parser + inject instructions into the prompt template.\n",
    "parser = PydanticOutputParser(pydantic_object=Trade)\n",
    "    "
   ]
  },
  {
   "cell_type": "code",
   "execution_count": 407,
   "metadata": {},
   "outputs": [],
   "source": [
    "chat_input = \"\"\"hello, please approve buy sell 100 bucks vs euro 1 month outright with hsbc on sanv \"\"\"\n",
    "\n",
    "examples_objects = example_selector.select_examples({\"input\": chat_input})\n",
    "parser = PydanticOutputParser(pydantic_object=Trade)\n",
    "examples = '\\n'.join(['input:\\n' + r['input'] + \"\\noutput:\\n\" + r['output'] +'\\n' for r in examples_objects])\n",
    "prompt = PromptTemplate(input_variables=[\"input\"], template=template, partial_variables={\"format_instructions\": parser.get_format_instructions(), \"examples_list\" : examples})\n",
    "_input = prompt.format_prompt(input=chat_input)\n",
    "output = model(_input.to_string())"
   ]
  },
  {
   "cell_type": "code",
   "execution_count": 408,
   "metadata": {},
   "outputs": [
    {
     "name": "stdout",
     "output_type": "stream",
     "text": [
      "{\n",
      "  \"input\": \"hello, please approve buy sell 100 bucks vs euro 1 month outright with hsbc on sanv\",\n",
      "  \"trade_json\": {\n",
      "    \"Entity\": \"EB\",\n",
      "    \"Counterparty\": \"HSBC\",\n",
      "    \"Notional\": 100000000,\n",
      "    \"Notional_Currency\": \"USD\",\n",
      "    \"Currency1\": \"USD\",\n",
      "    \"Currency2\": \"EUR\",\n",
      "    \"Trade_Type\": \"swap\",\n",
      "    \"Direction\": \"BS\",\n",
      "    \"Tenor\": \"ON\",\n",
      "    \"TenorEnd\": \"1M\"\n",
      "  },\n",
      "  \"error\": \"\"\n",
      "}\n"
     ]
    }
   ],
   "source": [
    "print(output)"
   ]
  },
  {
   "cell_type": "code",
   "execution_count": 392,
   "metadata": {},
   "outputs": [
    {
     "name": "stdout",
     "output_type": "stream",
     "text": [
      "input:\n",
      "Can sanv do 24.55mio ils sp-1m with hsbc?\n",
      "output:\n",
      "{ \"Entity\" : \"EB\", \"Counterparty\" : \"HSBC\", \"Notional\" : 24550000, \"Notional_currency\" : \"ILS\", \"Currency1\" : \"ILS\", \"Currency2\" : \"USD\", \"Trade_type\" : \"swap\", \"Direction\" : \"TwoWay\", \"Tenor\" : \"ON\", \"TenorEnd\" : \"1M\" }\n",
      "\n",
      "input:\n",
      "Can sanv do ils sp-1m with hsbc?\n",
      "output:\n",
      "error - no notional defined\n",
      "\n",
      "input:\n",
      "can i please trade about $4 usdthb 3M swap with DEUL on sa\n",
      "output:\n",
      "{ \"Entity\" : \"EB\", \"Counterparty\" : \"DEUL\", \"Notional\" : 4000000, \"Notional_currency\" : \"USD\", \"Currency1\" : \"USD\", \"Currency2\" : \"THB\", \"Trade_type\" : \"swap\", \"Direction\" : \"TwoWay\", \"Tenor\" : \"ON\", \"TenorEnd\" : \"3M\" }\n",
      "\n",
      "input:\n",
      "Can IB b/s 300mio dkk vs usd t/n with NFXL asking for apporval\n",
      "output:\n",
      "{ \"Entity\" : \"IB\", \"Counterparty\" : \"NFXL\", \"Notional\" : 300000000, \"Notional_currency\" : \"DKK\", \"Currency1\" : \"DKK\", \"Currency2\" : \"USD\", \"Trade_type\" : \"swap\", \"Direction\" : \"BS\", \"Tenor\" : \"ON\", \"TenorEnd\" : \"TN\" }\n",
      "\n",
      "input:\n",
      "another ccar ask, $2 usdinr outright 1m ag sgel\n",
      "output:\n",
      "{ \"Entity\" : \"IB\", \"Counterparty\" : \"SGEL\", \"Notional\" : 2000000, \"Notional_currency\" : \"USD\", \"Currency1\" : \"USD\", \"Currency2\" : \"INR\", \"Trade_type\" : \"swap\", \"Direction\" : \"TwoWay\", \"Tenor\" : \"ON\", \"TenorEnd\" : \"1M\" }\n",
      "\n"
     ]
    }
   ],
   "source": [
    "print(examples)"
   ]
  },
  {
   "cell_type": "code",
   "execution_count": null,
   "metadata": {},
   "outputs": [],
   "source": []
  }
 ],
 "metadata": {
  "kernelspec": {
   "display_name": "base",
   "language": "python",
   "name": "python3"
  },
  "language_info": {
   "codemirror_mode": {
    "name": "ipython",
    "version": 3
   },
   "file_extension": ".py",
   "mimetype": "text/x-python",
   "name": "python",
   "nbconvert_exporter": "python",
   "pygments_lexer": "ipython3",
   "version": "3.10.9"
  },
  "orig_nbformat": 4
 },
 "nbformat": 4,
 "nbformat_minor": 2
}
