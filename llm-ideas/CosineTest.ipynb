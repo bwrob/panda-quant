{
 "cells": [
  {
   "cell_type": "code",
   "execution_count": 14,
   "metadata": {},
   "outputs": [],
   "source": [
    "from sentence_transformers import SentenceTransformer\n",
    "from sklearn.metrics.pairwise import cosine_similarity\n",
    "\n",
    "def similarity(sentence1, sentence2):\n",
    "    # Load pre-trained model for encoding sentence embeddings\n",
    "    model = SentenceTransformer('sentence-transformers/all-MiniLM-L12-v2')\n",
    "\n",
    "    # Encode the sentences to obtain their embeddings\n",
    "    embeddings = model.encode([sentence1, sentence2],convert_to_tensor=True)\n",
    "\n",
    "    # Calculate the cosine similarity between the two sentence embeddings\n",
    "    cosine_similarity_score = cosine_similarity(embeddings[0].unsqueeze(0), embeddings[1].unsqueeze(0))[0][0]\n",
    "    return cosine_similarity_score\n"
   ]
  },
  {
   "cell_type": "code",
   "execution_count": 15,
   "metadata": {},
   "outputs": [
    {
     "name": "stdout",
     "output_type": "stream",
     "text": [
      "Cosine Similarity: 0.90025294\n"
     ]
    }
   ],
   "source": [
    "sentence1 = \"According to Douglas Adams' Hitchhiker's Guide to the Galaxy, the meaning of life is 42, which is a famous quote\"\n",
    "sentence2 = \"42 is the meaning of life, as per Douglas Adams' bestselling book Hitchhiker's Guide to the Galaxy\"\n",
    "print(\"Cosine Similarity:\", similarity(sentence1, sentence2))"
   ]
  },
  {
   "cell_type": "code",
   "execution_count": 16,
   "metadata": {},
   "outputs": [
    {
     "name": "stdout",
     "output_type": "stream",
     "text": [
      "Cosine Similarity: 0.4259737\n"
     ]
    }
   ],
   "source": [
    "sentence1 = \"According to Douglas Adams' Hitchhiker's Guide to the Galaxy, the meaning of life is 42\"\n",
    "sentence2 = \"In various ancient philosophies and religious texts, the concept of finding the ultimate life's meaning has been a recurring theme.\"\n",
    "print(\"Cosine Similarity:\", similarity(sentence1, sentence2))\n"
   ]
  },
  {
   "cell_type": "code",
   "execution_count": 17,
   "metadata": {},
   "outputs": [
    {
     "name": "stdout",
     "output_type": "stream",
     "text": [
      "Cosine Similarity: 0.017437562\n"
     ]
    }
   ],
   "source": [
    "sentence1 = \"According to Douglas Adams' Hitchhiker's Guide to the Galaxy, the meaning of life is 42\"\n",
    "sentence2 = \"I had porridge this morning and people are great clowns\"\n",
    "print(\"Cosine Similarity:\", similarity(sentence1, sentence2))"
   ]
  },
  {
   "cell_type": "code",
   "execution_count": 18,
   "metadata": {},
   "outputs": [
    {
     "data": {
      "text/plain": [
       "tensor([ 1.0081e-01,  2.4214e-02, -4.4521e-02,  7.6054e-02,  2.0233e-02,\n",
       "        -4.3068e-02,  4.4452e-03,  5.1015e-02,  3.3474e-02,  5.1417e-03,\n",
       "         6.7021e-02, -1.8915e-02, -4.3502e-02,  3.7009e-03, -7.2625e-02,\n",
       "         6.9337e-03, -1.4099e-02, -2.5914e-02, -4.7738e-02, -2.1368e-02,\n",
       "         1.6329e-02,  9.6059e-02,  1.1695e-02, -4.9720e-02, -1.6338e-02,\n",
       "         2.2573e-02,  4.0208e-03,  9.9753e-02, -5.3336e-02,  1.1527e-02,\n",
       "        -1.8842e-03,  6.8438e-04,  1.0947e-01, -5.7198e-02, -6.7893e-02,\n",
       "         4.3028e-02,  1.8678e-02,  6.6079e-04,  2.6563e-02, -1.7043e-02,\n",
       "        -1.4449e-02,  4.9125e-03, -1.1764e-01,  1.0357e-02, -7.1781e-02,\n",
       "        -1.0035e-01, -6.9629e-02, -7.5556e-02,  2.0798e-02, -2.3223e-02,\n",
       "        -4.4640e-02, -3.9046e-02, -8.0951e-02, -1.1297e-02,  8.0000e-02,\n",
       "         8.7207e-03, -1.9531e-02, -1.2974e-01, -2.5880e-02, -2.8228e-02,\n",
       "         1.7315e-02, -1.6591e-02,  4.2865e-02,  1.1336e-02,  5.9817e-02,\n",
       "        -1.2700e-02,  6.1562e-03, -1.7564e-02, -5.7644e-02, -7.7811e-03,\n",
       "         3.7418e-03,  9.4635e-02,  3.5424e-03, -1.8212e-02, -4.7399e-02,\n",
       "         5.9365e-02, -3.7087e-02,  3.8785e-02, -1.3375e-02, -1.3059e-02,\n",
       "        -3.6443e-02, -8.0422e-03, -2.0143e-02,  8.3484e-02,  2.9271e-02,\n",
       "        -1.5250e-03, -7.5855e-03,  3.8111e-02,  8.7859e-02,  1.0042e-01,\n",
       "        -2.5918e-02, -1.0461e-01,  2.5886e-03, -8.5885e-02, -3.0524e-02,\n",
       "        -2.4622e-04,  4.9952e-02, -7.0142e-02,  8.1288e-03, -1.1511e-02,\n",
       "        -2.9374e-02, -5.2093e-03,  8.1485e-02,  2.2245e-02, -2.9496e-02,\n",
       "        -4.6353e-02,  2.1817e-02,  2.5855e-03,  4.5606e-02,  4.9767e-02,\n",
       "         4.3128e-03,  1.2803e-02, -1.9869e-02,  2.3343e-02, -4.1054e-02,\n",
       "        -4.7798e-02, -3.7902e-02,  8.6530e-02, -8.8032e-03, -1.2181e-02,\n",
       "        -2.1236e-02,  3.4143e-02,  7.4970e-02,  3.0309e-02, -2.3372e-02,\n",
       "        -3.1512e-02, -9.0727e-03, -1.0306e-03, -8.5783e-03, -1.1973e-02,\n",
       "         1.0116e-01, -2.6427e-02, -1.8450e-02,  1.5230e-02, -1.4000e-03,\n",
       "         3.5417e-02,  1.2152e-01, -3.8438e-02, -6.5680e-02,  2.9454e-02,\n",
       "         2.5219e-02,  3.3871e-02,  3.4321e-02,  5.9605e-02, -4.5635e-02,\n",
       "        -1.2881e-02,  5.9720e-02, -1.6856e-02,  2.8962e-03,  4.6679e-02,\n",
       "         9.8666e-03, -4.8557e-02,  2.5922e-02,  1.2647e-02, -1.6061e-02,\n",
       "         1.7450e-02,  5.5824e-03, -3.3373e-02,  2.3550e-02,  9.0572e-02,\n",
       "         5.6111e-02,  2.9805e-02,  7.5584e-02, -2.7572e-02,  9.8857e-03,\n",
       "        -9.8202e-03, -4.7320e-02, -8.4872e-02, -5.1848e-02,  1.0010e-02,\n",
       "         1.0860e-01,  3.8281e-02,  6.0386e-02,  1.1495e-01,  8.9300e-02,\n",
       "         5.5092e-02,  2.6060e-02,  8.3318e-02, -3.5102e-02,  6.2389e-02,\n",
       "         4.2490e-02, -9.2785e-03, -1.5422e-02, -7.1535e-02,  5.1715e-03,\n",
       "         7.2901e-02,  9.7557e-03, -4.7109e-02,  5.7054e-02, -2.4930e-02,\n",
       "         1.1728e-01, -1.2174e-02, -4.1678e-02,  5.2441e-02, -4.4999e-02,\n",
       "        -2.8653e-02, -7.0501e-02,  2.1063e-02, -1.0323e-02,  6.6981e-03,\n",
       "        -4.6336e-02,  5.7112e-06,  4.2474e-02, -4.4877e-02, -1.4288e-02,\n",
       "        -2.5154e-02,  9.3621e-02,  1.5000e-02, -3.1908e-02, -1.8385e-02,\n",
       "         8.0783e-02,  2.4001e-03,  3.4211e-02,  6.9911e-02, -2.9971e-02,\n",
       "        -3.0976e-02, -1.0446e-02,  4.1370e-02,  3.6465e-02, -1.0124e-02,\n",
       "         7.2591e-02, -3.2031e-03, -4.6464e-02,  7.2986e-33, -1.7402e-02,\n",
       "        -4.9739e-02, -4.3600e-02,  1.3977e-04, -1.1821e-02, -6.0571e-02,\n",
       "        -4.6670e-02,  1.1059e-02,  6.2544e-02, -8.0228e-02, -1.6282e-02,\n",
       "         1.0242e-01,  1.7330e-02,  1.5906e-03, -1.0429e-02, -1.4139e-01,\n",
       "        -2.5004e-02, -8.8103e-02,  8.9095e-02,  3.6979e-02, -3.0966e-02,\n",
       "         9.1969e-03, -4.9867e-03, -5.5189e-02,  3.6096e-02, -4.5245e-02,\n",
       "         8.2892e-02,  7.3056e-02, -2.7327e-03, -2.4750e-02, -2.9394e-02,\n",
       "         1.2830e-01, -6.9183e-02,  3.8611e-03,  2.2526e-02, -3.1834e-02,\n",
       "         6.5530e-02, -7.0540e-02,  1.2339e-03, -1.7980e-02, -8.5432e-04,\n",
       "         4.6544e-02,  3.5158e-02, -4.7878e-02, -7.9347e-03,  1.6694e-02,\n",
       "         6.3865e-02,  1.5342e-01,  1.9749e-03,  8.7176e-02, -1.3189e-02,\n",
       "        -4.8900e-02, -1.2747e-02, -5.4597e-02, -3.1897e-02, -3.1075e-02,\n",
       "        -2.3408e-02, -1.2639e-01,  8.6551e-02, -2.3326e-02,  3.0128e-02,\n",
       "        -5.7486e-03, -3.0424e-03,  1.1066e-01, -6.0467e-02, -7.7695e-02,\n",
       "         8.7438e-02,  6.3540e-02, -5.2790e-02,  3.2442e-02, -3.3897e-02,\n",
       "        -1.8248e-02,  2.1695e-02,  1.3658e-02, -2.0174e-02,  1.9356e-02,\n",
       "         5.2646e-02,  3.0686e-02, -6.2488e-03, -8.7940e-02, -1.1316e-01,\n",
       "         3.6805e-03,  8.5133e-02, -1.6542e-04,  2.0699e-02,  1.7299e-02,\n",
       "        -4.9507e-02,  4.5156e-02, -3.2370e-02,  5.7612e-02,  2.5367e-02,\n",
       "        -6.3238e-02, -4.8168e-02,  2.7172e-02, -1.0946e-01,  2.5198e-32,\n",
       "         6.8027e-03, -9.4992e-03,  1.2643e-02, -3.1975e-02,  4.4472e-02,\n",
       "         8.5487e-02,  6.4210e-02, -2.1764e-03, -3.0280e-02,  7.8605e-02,\n",
       "         2.9247e-02,  1.7041e-02, -5.3687e-02,  4.1563e-03,  1.0898e-01,\n",
       "        -1.3735e-01, -1.9279e-02, -4.9356e-02, -3.4057e-02, -5.7414e-02,\n",
       "         2.6636e-02, -3.3941e-02, -3.4991e-03, -3.3669e-02,  4.6357e-02,\n",
       "         5.9518e-02,  5.5925e-02,  2.5999e-03, -2.0767e-02, -1.2080e-01,\n",
       "        -2.9489e-02,  8.9687e-03, -7.0404e-02, -2.1032e-02, -5.0441e-02,\n",
       "        -5.2553e-02, -2.6151e-03, -1.4724e-03,  6.0771e-02, -7.0308e-03,\n",
       "        -4.2111e-02,  8.8392e-02,  1.5885e-02,  6.7585e-02, -6.1727e-02,\n",
       "        -8.1518e-02,  5.0380e-02,  1.8528e-02, -6.0115e-02, -6.4835e-02,\n",
       "        -1.7318e-02,  5.1341e-02, -1.0573e-02, -2.0018e-02,  6.5942e-02,\n",
       "        -1.0174e-02, -1.1648e-01,  7.4462e-02, -4.3907e-02,  7.1583e-03,\n",
       "        -4.7750e-02, -2.3424e-02, -5.9640e-02, -7.6082e-02])"
      ]
     },
     "execution_count": 18,
     "metadata": {},
     "output_type": "execute_result"
    }
   ],
   "source": [
    "embeddings[0"
   ]
  },
  {
   "cell_type": "code",
   "execution_count": null,
   "metadata": {},
   "outputs": [],
   "source": []
  }
 ],
 "metadata": {
  "kernelspec": {
   "display_name": "base",
   "language": "python",
   "name": "python3"
  },
  "language_info": {
   "codemirror_mode": {
    "name": "ipython",
    "version": 3
   },
   "file_extension": ".py",
   "mimetype": "text/x-python",
   "name": "python",
   "nbconvert_exporter": "python",
   "pygments_lexer": "ipython3",
   "version": "3.10.9"
  },
  "orig_nbformat": 4
 },
 "nbformat": 4,
 "nbformat_minor": 2
}
