{
  "nbformat": 4,
  "nbformat_minor": 0,
  "metadata": {
    "colab": {
      "provenance": []
    },
    "kernelspec": {
      "name": "python3",
      "display_name": "Python 3"
    },
    "language_info": {
      "name": "python"
    }
  },
  "cells": [
    {
      "cell_type": "code",
      "source": [
        "import QuantLib as ql\n",
        "\n",
        "# Set up the yield term structure (5% flat forward rate)\n",
        "crv = ql.FlatForward(2, ql.TARGET(), 0.05, ql.Actual360())  # Flat forward curve at 5%\n",
        "usd3mcurve = ql.YieldTermStructureHandle(crv)                      # Wrap curve in a handle\n",
        "\n",
        "model=ql.G2(usd3mcurve)\n",
        "optimization_method = ql.LevenbergMarquardt(1e-8, 1e-8, 1e-8)\n",
        "end_criteria = ql.EndCriteria(1000, 500, 1e-8, 1e-8, 1e-8)\n",
        "periods = [ql.Period('1y'),ql.Period('2y'),ql.Period('5y'),ql.Period('7y'),ql.Period('10Y'),ql.Period('15Y')]\n",
        "quotes = [ql.QuoteHandle(ql.SimpleQuote(0.0085)),ql.QuoteHandle(ql.SimpleQuote(0.0055)),ql.QuoteHandle(ql.SimpleQuote(0.0045)),\n",
        "          ql.QuoteHandle(ql.SimpleQuote(0.0043)),ql.QuoteHandle(ql.SimpleQuote(0.0035)),ql.QuoteHandle(ql.SimpleQuote(0.0025))]\n",
        "yts = usd3mcurve\n",
        "index = ql.USDLibor(ql.Period('3m'),usd3mcurve)\n",
        "\n",
        "helpers = [ql.CapHelper(i, j, index, ql.Quarterly, ql.Actual360(), False, usd3mcurve,0,ql.Normal) for i,j in zip(periods,quotes)]\n",
        "\n",
        "for h in helpers:\n",
        "    h.setPricingEngine(ql.TreeCapFloorEngine(model,20))\n",
        "\n",
        "model.calibrate(helpers,optimization_method,end_criteria)\n",
        "print(model.params())\n",
        "\n",
        "model_vols=[]\n",
        "for h in helpers:\n",
        "    model_vols.append(h.impliedVolatility(h.modelValue(),1e-5,50,0,4))\n",
        "print(model_vols)"
      ],
      "metadata": {
        "colab": {
          "base_uri": "https://localhost:8080/"
        },
        "id": "ySWwB18dNZLx",
        "outputId": "335f5255-6f19-4317-9793-ca399f18890c"
      },
      "execution_count": 83,
      "outputs": [
        {
          "output_type": "stream",
          "name": "stdout",
          "text": [
            "[ 1.13806; 0.0139089; 1.13806; 0.0139089; -0.638518 ]\n",
            "[0.007727663084877359, 0.006076001866294086, 0.004378030404544783, 0.0038199695731712647, 0.0033225695987325436, 0.002827470038621719]\n"
          ]
        }
      ]
    },
    {
      "cell_type": "code",
      "source": [
        "# Define bond schedule\n",
        "issue_date = ql.Date(15, 9, 2023)\n",
        "maturity_date = ql.Date(15, 9, 2033)\n",
        "tenor = ql.Period(ql.Semiannual)\n",
        "calendar = ql.UnitedStates(ql.UnitedStates.GovernmentBond)\n",
        "settlement_days = 2\n",
        "schedule = ql.Schedule(issue_date, maturity_date, tenor, calendar, ql.Unadjusted, ql.Unadjusted, ql.DateGeneration.Forward, False)\n",
        "\n",
        "# Define bond coupon rates and redemption\n",
        "coupon_rate = 0.05  # 5% coupon rate\n",
        "coupons = [coupon_rate]\n",
        "face_amount = 100.0\n",
        "redemption = 100.0\n",
        "\n",
        "# 5. Set up callable feature (callability schedule)\n",
        "call_dates = [ql.Date(15, 9, 2025), ql.Date(15, 9, 2027), ql.Date(15, 9, 2029)]\n",
        "call_prices = [100.0, 100.0, 100.0]  # Callable at different prices on different dates\n",
        "\n",
        "callability_schedule = ql.CallabilitySchedule()\n",
        "for call_date, call_price in zip(call_dates, call_prices):\n",
        "    callability_price  = ql.BondPrice(call_price, ql.BondPrice.Clean)\n",
        "    callability_schedule.append(\n",
        "        ql.Callability(\n",
        "            callability_price,    # Call price\n",
        "            ql.Callability.Call,  # Call feature\n",
        "            call_date      # Call date\n",
        "        )\n",
        "    )\n",
        "\n",
        "# 6. Create the callable bond\n",
        "callable_bond = ql.CallableFixedRateBond(\n",
        "    settlement_days,  # Settlement days\n",
        "    face_amount,      # Face value\n",
        "    schedule,         # Bond schedule\n",
        "    coupons,          # Coupon payments\n",
        "    ql.ActualActual(ql.ActualActual.Bond), # Day count convention\n",
        "    ql.Following,     # Business day convention\n",
        "    redemption,       # Redemption value\n",
        "    issue_date,       # Issue date\n",
        "    callability_schedule\n",
        ")\n",
        "\n",
        "# 7. Set up the pricing engine for the callable bond using the calibrated G2++ model\n",
        "callable_bond_engine = ql.TreeCallableFixedRateBondEngine(model, 100)  # Using 100 time steps\n",
        "callable_bond.setPricingEngine(callable_bond_engine)\n",
        "\n",
        "# 8. Price the callable bond\n",
        "callable_bond_price = callable_bond.cleanPrice()\n",
        "print(\"Callable Bond Price: \", callable_bond_price)"
      ],
      "metadata": {
        "colab": {
          "base_uri": "https://localhost:8080/"
        },
        "id": "sOAboTgYS3WC",
        "outputId": "0299ceb9-395a-4e19-a678-bf04560f553d"
      },
      "execution_count": 84,
      "outputs": [
        {
          "output_type": "stream",
          "name": "stdout",
          "text": [
            "Callable Bond Price:  98.89007452991989\n"
          ]
        }
      ]
    },
    {
      "cell_type": "code",
      "source": [
        "# Set up the yield term structure (5% flat forward rate)\n",
        "crv = ql.FlatForward(2, ql.TARGET(), 0.05, ql.Actual360())  # Flat forward curve at 5%\n",
        "usd3mcurve = ql.YieldTermStructureHandle(crv)                      # Wrap curve in a handle\n",
        "\n",
        "model=ql.HullWhite(usd3mcurve)\n",
        "optimization_method = ql.LevenbergMarquardt(1e-8, 1e-8, 1e-8)\n",
        "end_criteria = ql.EndCriteria(1000, 500, 1e-8, 1e-8, 1e-8)\n",
        "periods = [ql.Period('1y'),ql.Period('2y'),ql.Period('5y'),ql.Period('7y'),ql.Period('10Y'),ql.Period('15Y')]\n",
        "quotes = [ql.QuoteHandle(ql.SimpleQuote(0.0085)),ql.QuoteHandle(ql.SimpleQuote(0.0055)),ql.QuoteHandle(ql.SimpleQuote(0.0045)),\n",
        "          ql.QuoteHandle(ql.SimpleQuote(0.0043)),ql.QuoteHandle(ql.SimpleQuote(0.0035)),ql.QuoteHandle(ql.SimpleQuote(0.0025))]\n",
        "index = ql.USDLibor(ql.Period('3m'),usd3mcurve)\n",
        "helpers = [ql.CapHelper(i, j, index, ql.Quarterly, ql.Actual360(), False, usd3mcurve,0,ql.Normal) for i,j in zip(periods,quotes)]\n",
        "for h in helpers:\n",
        "    h.setPricingEngine(ql.TreeCapFloorEngine(model,20))\n",
        "model.calibrate(helpers,optimization_method,end_criteria)\n",
        "print(model.params())\n",
        "\n",
        "model_vols=[]\n",
        "for h in helpers:\n",
        "    model_vols.append(h.impliedVolatility(h.modelValue(),1e-5,50,0,4))\n",
        "print(model_vols)"
      ],
      "metadata": {
        "colab": {
          "base_uri": "https://localhost:8080/"
        },
        "id": "2lsBo4dTRG12",
        "outputId": "eed77e1b-5955-46f0-bc12-50dac53c64fd"
      },
      "execution_count": 85,
      "outputs": [
        {
          "output_type": "stream",
          "name": "stdout",
          "text": [
            "[ 3.87276; 0.0237309 ]\n",
            "[0.007917292052856541, 0.0058198729789102205, 0.004536374051231691, 0.003897472507141789, 0.00332474117280105, 0.0027983757851586443]\n"
          ]
        }
      ]
    },
    {
      "cell_type": "code",
      "source": [
        "# Define bond schedule\n",
        "issue_date = ql.Date(15, 9, 2023)\n",
        "maturity_date = ql.Date(15, 9, 2033)\n",
        "tenor = ql.Period(ql.Semiannual)\n",
        "calendar = ql.UnitedStates(ql.UnitedStates.GovernmentBond)\n",
        "settlement_days = 2\n",
        "schedule = ql.Schedule(issue_date, maturity_date, tenor, calendar, ql.Unadjusted, ql.Unadjusted, ql.DateGeneration.Forward, False)\n",
        "\n",
        "# Define bond coupon rates and redemption\n",
        "coupon_rate = 0.05  # 5% coupon rate\n",
        "coupons = [coupon_rate]\n",
        "face_amount = 100.0\n",
        "redemption = 100.0\n",
        "\n",
        "# 5. Set up callable feature (callability schedule)\n",
        "call_dates = [ql.Date(15, 9, 2025), ql.Date(15, 9, 2027), ql.Date(15, 9, 2029)]\n",
        "call_prices = [100.0, 100.0, 100.0]  # Callable at different prices on different dates\n",
        "\n",
        "callability_schedule = ql.CallabilitySchedule()\n",
        "for call_date, call_price in zip(call_dates, call_prices):\n",
        "    callability_price  = ql.BondPrice(call_price, ql.BondPrice.Clean)\n",
        "    callability_schedule.append(\n",
        "        ql.Callability(\n",
        "            callability_price,    # Call price\n",
        "            ql.Callability.Call,  # Call feature\n",
        "            call_date      # Call date\n",
        "        )\n",
        "    )\n",
        "\n",
        "# 6. Create the callable bond\n",
        "callable_bond = ql.CallableFixedRateBond(\n",
        "    settlement_days,  # Settlement days\n",
        "    face_amount,      # Face value\n",
        "    schedule,         # Bond schedule\n",
        "    coupons,          # Coupon payments\n",
        "    ql.ActualActual(ql.ActualActual.Bond), # Day count convention\n",
        "    ql.Following,     # Business day convention\n",
        "    redemption,       # Redemption value\n",
        "    issue_date,       # Issue date\n",
        "    callability_schedule\n",
        ")\n",
        "\n",
        "# 7. Set up the pricing engine for the callable bond using the calibrated G2++ model\n",
        "callable_bond_engine = ql.TreeCallableFixedRateBondEngine(model, 100)  # Using 100 time steps\n",
        "callable_bond.setPricingEngine(callable_bond_engine)\n",
        "\n",
        "# 8. Price the callable bond\n",
        "callable_bond_price = callable_bond.cleanPrice()\n",
        "print(\"Callable Bond Price: \", callable_bond_price)"
      ],
      "metadata": {
        "colab": {
          "base_uri": "https://localhost:8080/"
        },
        "id": "yoPz2HoUSBuA",
        "outputId": "dc318cbd-04c8-497e-b8c8-fde18da30ad0"
      },
      "execution_count": 86,
      "outputs": [
        {
          "output_type": "stream",
          "name": "stdout",
          "text": [
            "Callable Bond Price:  99.01755207044552\n"
          ]
        }
      ]
    },
    {
      "cell_type": "code",
      "source": [],
      "metadata": {
        "id": "e4KQoLXUVw4P"
      },
      "execution_count": null,
      "outputs": []
    }
  ]
}