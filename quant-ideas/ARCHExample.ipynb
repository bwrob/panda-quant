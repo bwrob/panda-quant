{
 "cells": [
  {
   "cell_type": "code",
   "execution_count": 391,
   "id": "72beb00d-96fd-4702-a173-1fd7efc8be75",
   "metadata": {},
   "outputs": [],
   "source": [
    "import pandas as pd\n",
    "import numpy as np\n",
    "import math"
   ]
  },
  {
   "cell_type": "code",
   "execution_count": 16,
   "id": "3891ca13-f804-43ae-b843-4b7691fdde61",
   "metadata": {},
   "outputs": [
    {
     "data": {
      "text/plain": [
       "Date\n",
       "2017-07-10     49.823502\n",
       "2017-07-11     49.706501\n",
       "2017-07-12     50.325500\n",
       "2017-07-13     50.031502\n",
       "2017-07-14     50.090500\n",
       "                 ...    \n",
       "2022-07-01    109.559998\n",
       "2022-07-05    113.500000\n",
       "2022-07-06    114.330002\n",
       "2022-07-07    116.330002\n",
       "2022-07-08    115.540001\n",
       "Name: Close, Length: 1259, dtype: float64"
      ]
     },
     "execution_count": 16,
     "metadata": {},
     "output_type": "execute_result"
    }
   ],
   "source": [
    "files = ['^W5000.csv', 'AMZN.csv', 'GOOG.csv', 'META.csv', 'MSFT.csv']\n",
    "\n",
    "df = pd.read_csv('AMZN.csv')\n",
    "df.set_index('Date')['Close']"
   ]
  },
  {
   "cell_type": "code",
   "execution_count": 53,
   "id": "e9c13991-2761-4c23-af17-b9426a2adb0e",
   "metadata": {},
   "outputs": [],
   "source": [
    "x = np.log(1.0 + df['Close'].pct_change(1).dropna().to_numpy())"
   ]
  },
  {
   "cell_type": "code",
   "execution_count": 183,
   "id": "e56a0c23-c67d-4432-a89d-a08a5cf863ed",
   "metadata": {},
   "outputs": [
    {
     "data": {
      "text/plain": [
       "array([[ 0.0034663 ],\n",
       "       [-0.00470085],\n",
       "       [-0.02070991],\n",
       "       [ 0.03948659],\n",
       "       [ 0.00305089],\n",
       "       [ 0.01134029],\n",
       "       [ 0.01435236],\n",
       "       [ 0.00080367],\n",
       "       [ 0.00495535],\n",
       "       [ 0.00957619]])"
      ]
     },
     "execution_count": 183,
     "metadata": {},
     "output_type": "execute_result"
    }
   ],
   "source": [
    "np.random.choice(x, (10, 1), replace=True)"
   ]
  },
  {
   "cell_type": "code",
   "execution_count": 184,
   "id": "1df04439-2724-4cd6-a354-02afc1b0b8e1",
   "metadata": {},
   "outputs": [
    {
     "name": "stdout",
     "output_type": "stream",
     "text": [
      "Iteration:      1,   Func. Count:      6,   Neg. LLF: 7119.59139104029\n",
      "Iteration:      2,   Func. Count:     14,   Neg. LLF: 114356.2756974654\n",
      "Iteration:      3,   Func. Count:     22,   Neg. LLF: 2682.534980211362\n",
      "Iteration:      4,   Func. Count:     28,   Neg. LLF: 2599.5390508880314\n",
      "Iteration:      5,   Func. Count:     34,   Neg. LLF: 2770.9954029085447\n",
      "Iteration:      6,   Func. Count:     40,   Neg. LLF: 2591.59797122614\n",
      "Iteration:      7,   Func. Count:     45,   Neg. LLF: 2591.7579762043824\n",
      "Iteration:      8,   Func. Count:     51,   Neg. LLF: 2591.597642164129\n",
      "Iteration:      9,   Func. Count:     57,   Neg. LLF: 2591.5597880691735\n",
      "Iteration:     10,   Func. Count:     62,   Neg. LLF: 2591.5597786257126\n",
      "Iteration:     11,   Func. Count:     66,   Neg. LLF: 2591.5597786257076\n",
      "Optimization terminated successfully    (Exit mode 0)\n",
      "            Current function value: 2591.5597786257126\n",
      "            Iterations: 11\n",
      "            Function evaluations: 66\n",
      "            Gradient evaluations: 11\n"
     ]
    }
   ],
   "source": [
    "import arch\n",
    "\n",
    "# a standard GARCH(1,1) model\n",
    "garch = arch.arch_model(100*x, vol='garch', p=1, o=0, q=1)\n",
    "garch_fitted = garch.fit()\n",
    "\n",
    "# one-step out-of sample forecast\n",
    "garch_forecast = garch_fitted.forecast(horizon=1)\n",
    "predicted_et = garch_forecast.mean['h.1'].iloc[-1]"
   ]
  },
  {
   "cell_type": "code",
   "execution_count": 185,
   "id": "8709cedb-ff11-479d-8bbc-fcf96a8eba99",
   "metadata": {},
   "outputs": [
    {
     "data": {
      "text/plain": [
       "                     Constant Mean - GARCH Model Results                      \n",
       "==============================================================================\n",
       "Dep. Variable:                      y   R-squared:                      -0.002\n",
       "Mean Model:             Constant Mean   Adj. R-squared:                 -0.002\n",
       "Vol Model:                      GARCH   Log-Likelihood:               -2591.56\n",
       "Distribution:                  Normal   AIC:                           5191.12\n",
       "Method:            Maximum Likelihood   BIC:                           5211.67\n",
       "                                        No. Observations:                 1258\n",
       "Date:                Mon, Jul 11 2022   Df Residuals:                     1254\n",
       "Time:                        20:45:44   Df Model:                            4\n",
       "                                Mean Model                                \n",
       "==========================================================================\n",
       "                 coef    std err          t      P>|t|    95.0% Conf. Int.\n",
       "--------------------------------------------------------------------------\n",
       "mu             0.1646  5.253e-02      3.133  1.730e-03 [6.162e-02,  0.268]\n",
       "                             Volatility Model                             \n",
       "==========================================================================\n",
       "                 coef    std err          t      P>|t|    95.0% Conf. Int.\n",
       "--------------------------------------------------------------------------\n",
       "omega          0.3231      0.134      2.412  1.588e-02 [6.053e-02,  0.586]\n",
       "alpha[1]       0.1766  4.233e-02      4.171  3.039e-05 [9.358e-02,  0.260]\n",
       "beta[1]        0.7592  4.642e-02     16.354  4.059e-60   [  0.668,  0.850]\n",
       "==========================================================================\n",
       "\n",
       "Covariance estimator: robust\n",
       "ARCHModelResult, id: 0x7fdbf9c51ad0"
      ]
     },
     "execution_count": 185,
     "metadata": {},
     "output_type": "execute_result"
    }
   ],
   "source": [
    "garch_fitted"
   ]
  },
  {
   "cell_type": "code",
   "execution_count": 181,
   "id": "83660690-7156-482c-94e5-e4f3cab63045",
   "metadata": {},
   "outputs": [
    {
     "data": {
      "text/plain": [
       "5.16895951176819"
      ]
     },
     "execution_count": 181,
     "metadata": {},
     "output_type": "execute_result"
    }
   ],
   "source": [
    "np.var(garch.simulate(garch_fitted.params, 2000)['data'].to_numpy())"
   ]
  },
  {
   "cell_type": "code",
   "execution_count": null,
   "id": "ad02d7cd-7334-4067-bb10-9330b9bc895b",
   "metadata": {},
   "outputs": [],
   "source": []
  },
  {
   "cell_type": "code",
   "execution_count": 133,
   "id": "192f9e7e-e4c2-4ff9-aaa8-32bff78c7bba",
   "metadata": {},
   "outputs": [
    {
     "data": {
      "text/plain": [
       "mu          0.164575\n",
       "omega       0.323144\n",
       "alpha[1]    0.176557\n",
       "beta[1]     0.759228\n",
       "Name: params, dtype: float64"
      ]
     },
     "execution_count": 133,
     "metadata": {},
     "output_type": "execute_result"
    }
   ],
   "source": [
    "garch_fitted.params"
   ]
  },
  {
   "cell_type": "code",
   "execution_count": 159,
   "id": "cfece40f-cef6-4f3d-b073-058638af94f7",
   "metadata": {},
   "outputs": [
    {
     "data": {
      "text/plain": [
       "4.473571913441831"
      ]
     },
     "execution_count": 159,
     "metadata": {},
     "output_type": "execute_result"
    }
   ],
   "source": [
    "np.var(x*100)"
   ]
  },
  {
   "cell_type": "code",
   "execution_count": 197,
   "id": "963604ef-4773-41ec-bb4f-ce35a0bd868d",
   "metadata": {},
   "outputs": [],
   "source": [
    "import numpy as np\n",
    "from arch.univariate import ARX\n",
    "arx = ARX(100*x, lags=[1, 2])\n",
    "res = arx.fit()"
   ]
  },
  {
   "cell_type": "code",
   "execution_count": 192,
   "id": "dc78a162-ddb7-467e-8b3d-4a72f940c21c",
   "metadata": {},
   "outputs": [
    {
     "data": {
      "text/plain": [
       "                     AR - Constant Variance Model Results                     \n",
       "==============================================================================\n",
       "Dep. Variable:                      y   R-squared:                       0.003\n",
       "Mean Model:                        AR   Adj. R-squared:                 -0.001\n",
       "Vol Model:          Constant Variance   Log-Likelihood:               -2716.69\n",
       "Distribution:                  Normal   AIC:                           5447.39\n",
       "Method:            Maximum Likelihood   BIC:                           5483.32\n",
       "                                        No. Observations:                 1253\n",
       "Date:                Mon, Jul 11 2022   Df Residuals:                     1246\n",
       "Time:                        20:49:33   Df Model:                            7\n",
       "                                  Mean Model                                 \n",
       "=============================================================================\n",
       "                 coef    std err          t      P>|t|       95.0% Conf. Int.\n",
       "-----------------------------------------------------------------------------\n",
       "Const          0.0677  6.129e-02      1.104      0.270   [-5.246e-02,  0.188]\n",
       "y[1]          -0.0399  4.143e-02     -0.964      0.335    [ -0.121,4.127e-02]\n",
       "y[2]           0.0204  3.696e-02      0.553      0.580 [-5.200e-02,9.288e-02]\n",
       "y[3]          -0.0280  3.766e-02     -0.744      0.457    [ -0.102,4.579e-02]\n",
       "y[4]           0.0142  3.940e-02      0.360      0.719 [-6.303e-02,9.142e-02]\n",
       "y[5]           0.0106  3.426e-02      0.308      0.758 [-5.659e-02,7.772e-02]\n",
       "                            Volatility Model                            \n",
       "========================================================================\n",
       "                 coef    std err          t      P>|t|  95.0% Conf. Int.\n",
       "------------------------------------------------------------------------\n",
       "sigma2         4.4746      0.342     13.076  4.510e-39 [  3.804,  5.145]\n",
       "========================================================================\n",
       "\n",
       "Covariance estimator: White's Heteroskedasticity Consistent Estimator\n",
       "ARCHModelResult, id: 0x7fdbf9c99a50"
      ]
     },
     "execution_count": 192,
     "metadata": {},
     "output_type": "execute_result"
    }
   ],
   "source": [
    "res"
   ]
  },
  {
   "cell_type": "code",
   "execution_count": 198,
   "id": "cd3e84ab-131e-41ad-bc35-c19cc3aa12c6",
   "metadata": {},
   "outputs": [],
   "source": [
    "from arch.univariate import GARCH\n",
    "arx.volatility=GARCH()\n",
    "res = arx.fit(update_freq=0, disp='off')"
   ]
  },
  {
   "cell_type": "code",
   "execution_count": 199,
   "id": "9d403337-b44a-4ed3-97a9-977ce59c0dcb",
   "metadata": {},
   "outputs": [
    {
     "data": {
      "text/plain": [
       "                           AR - GARCH Model Results                           \n",
       "==============================================================================\n",
       "Dep. Variable:                      y   R-squared:                      -0.005\n",
       "Mean Model:                        AR   Adj. R-squared:                 -0.006\n",
       "Vol Model:                      GARCH   Log-Likelihood:               -2588.51\n",
       "Distribution:                  Normal   AIC:                           5189.03\n",
       "Method:            Maximum Likelihood   BIC:                           5219.84\n",
       "                                        No. Observations:                 1256\n",
       "Date:                Mon, Jul 11 2022   Df Residuals:                     1250\n",
       "Time:                        20:50:49   Df Model:                            6\n",
       "                                  Mean Model                                 \n",
       "=============================================================================\n",
       "                 coef    std err          t      P>|t|       95.0% Conf. Int.\n",
       "-----------------------------------------------------------------------------\n",
       "Const          0.1643  5.459e-02      3.010  2.612e-03    [5.732e-02,  0.271]\n",
       "y[1]           0.0122  3.320e-02      0.367      0.714 [-5.290e-02,7.725e-02]\n",
       "y[2]          -0.0220  3.234e-02     -0.679      0.497 [-8.536e-02,4.142e-02]\n",
       "                             Volatility Model                             \n",
       "==========================================================================\n",
       "                 coef    std err          t      P>|t|    95.0% Conf. Int.\n",
       "--------------------------------------------------------------------------\n",
       "omega          0.3256      0.133      2.441  1.465e-02 [6.413e-02,  0.587]\n",
       "alpha[1]       0.1792  4.223e-02      4.243  2.201e-05 [9.642e-02,  0.262]\n",
       "beta[1]        0.7567  4.612e-02     16.407  1.698e-60   [  0.666,  0.847]\n",
       "==========================================================================\n",
       "\n",
       "Covariance estimator: robust\n",
       "ARCHModelResult, id: 0x7fdbf9b5e990"
      ]
     },
     "execution_count": 199,
     "metadata": {},
     "output_type": "execute_result"
    }
   ],
   "source": [
    "res"
   ]
  },
  {
   "cell_type": "code",
   "execution_count": 244,
   "id": "24a96ab0-164e-44ce-8a68-1a3e36aecf0f",
   "metadata": {},
   "outputs": [],
   "source": [
    "sim = arx.simulate(res.params, 1000, initial_value_vol = 0.02) / 100"
   ]
  },
  {
   "cell_type": "code",
   "execution_count": 245,
   "id": "96abbd92-34c0-4f2c-a1f2-144470fe8382",
   "metadata": {},
   "outputs": [
    {
     "data": {
      "text/plain": [
       "[<matplotlib.lines.Line2D at 0x7fdbc16ab590>]"
      ]
     },
     "execution_count": 245,
     "metadata": {},
     "output_type": "execute_result"
    },
    {
     "data": {
      "image/png": "[encoded data removed]",
      "text/plain": [
       "<Figure size 432x288 with 1 Axes>"
      ]
     },
     "metadata": {
      "needs_background": "light"
     },
     "output_type": "display_data"
    }
   ],
   "source": [
    "plt.plot(sim['volatility'])"
   ]
  },
  {
   "cell_type": "code",
   "execution_count": 248,
   "id": "bca4183f-95cb-44f0-bbf3-99205178555c",
   "metadata": {},
   "outputs": [
    {
     "data": {
      "text/plain": [
       "[<matplotlib.lines.Line2D at 0x7fdbc198ced0>]"
      ]
     },
     "execution_count": 248,
     "metadata": {},
     "output_type": "execute_result"
    },
    {
     "data": {
      "image/png": "[encoded data removed]",
      "text/plain": [
       "<Figure size 432x288 with 1 Axes>"
      ]
     },
     "metadata": {
      "needs_background": "light"
     },
     "output_type": "display_data"
    }
   ],
   "source": [
    "plt.plot(49 * np.exp(np.cumsum(sim['data'])))"
   ]
  },
  {
   "cell_type": "code",
   "execution_count": 249,
   "id": "6ecaf179-021c-40f2-964f-05861a20db91",
   "metadata": {},
   "outputs": [
    {
     "data": {
      "text/plain": [
       "Date\n",
       "2017-07-10     49.823502\n",
       "2017-07-11     49.706501\n",
       "2017-07-12     50.325500\n",
       "2017-07-13     50.031502\n",
       "2017-07-14     50.090500\n",
       "                 ...    \n",
       "2022-07-01    109.559998\n",
       "2022-07-05    113.500000\n",
       "2022-07-06    114.330002\n",
       "2022-07-07    116.330002\n",
       "2022-07-08    115.540001\n",
       "Name: Close, Length: 1259, dtype: float64"
      ]
     },
     "execution_count": 249,
     "metadata": {},
     "output_type": "execute_result"
    }
   ],
   "source": [
    "import pandas as pd\n",
    "import numpy as np\n",
    "\n",
    "df = pd.read_csv('AMZN.csv')\n",
    "df.set_index('Date')['Close']"
   ]
  },
  {
   "cell_type": "code",
   "execution_count": 251,
   "id": "c47bc77f-c4a3-4a6c-a55e-d7cbf701737f",
   "metadata": {},
   "outputs": [
    {
     "data": {
      "text/plain": [
       "array([-0.00235107,  0.01237618, -0.00585906,  0.00117852,  0.00818155,\n",
       "        0.01416597,  0.00235942,  0.00178059, -0.00294981,  0.01286447])"
      ]
     },
     "execution_count": 251,
     "metadata": {},
     "output_type": "execute_result"
    }
   ],
   "source": [
    "x = np.log(1.0 + df['Close'].pct_change(1).dropna().to_numpy())\n",
    "x[:10]"
   ]
  },
  {
   "cell_type": "code",
   "execution_count": 257,
   "id": "812eb98d-fc0f-449e-99bc-8445ed708a4a",
   "metadata": {},
   "outputs": [],
   "source": [
    "import numpy as np\n",
    "from arch.univariate import ARX\n",
    "arx = ARX(100*x, lags=[1])\n",
    "res = arx.fit()"
   ]
  },
  {
   "cell_type": "code",
   "execution_count": 442,
   "id": "3fd7bf55-d398-405f-a992-cf70c19adf9e",
   "metadata": {},
   "outputs": [],
   "source": [
    "from arch.univariate import GARCH\n",
    "arx.volatility=GARCH(p=1,o=1,q=1,power=0.5)\n",
    "res = arx.fit(update_freq=0, disp='off')"
   ]
  },
  {
   "cell_type": "code",
   "execution_count": 443,
   "id": "21b93adc-a1b3-4b01-8dc1-11fafdeea7eb",
   "metadata": {},
   "outputs": [
    {
     "data": {
      "text/plain": [
       "                    AR - Asym. Power GARCH (power: 0.5) Model Results                     \n",
       "==========================================================================================\n",
       "Dep. Variable:                                  y   R-squared:                      -0.001\n",
       "Mean Model:                                    AR   Adj. R-squared:                 -0.002\n",
       "Vol Model:         Asym. Power GARCH (power: 0.5)   Log-Likelihood:               -2567.86\n",
       "Distribution:                              Normal   AIC:                           5147.72\n",
       "Method:                        Maximum Likelihood   BIC:                           5178.54\n",
       "                                                    No. Observations:                 1257\n",
       "Date:                            Tue, Jul 12 2022   Df Residuals:                     1251\n",
       "Time:                                    00:11:54   Df Model:                            6\n",
       "                                   Mean Model                                  \n",
       "===============================================================================\n",
       "                  coef    std err          t      P>|t|        95.0% Conf. Int.\n",
       "-------------------------------------------------------------------------------\n",
       "Const           0.1491  1.536e-04    970.851      0.000       [  0.149,  0.149]\n",
       "y[1]       -4.5441e-03  3.342e-05   -135.961      0.000 [-4.610e-03,-4.479e-03]\n",
       "                             Volatility Model                             \n",
       "==========================================================================\n",
       "                 coef    std err          t      P>|t|    95.0% Conf. Int.\n",
       "--------------------------------------------------------------------------\n",
       "omega          0.0756  2.717e-02      2.781  5.415e-03 [2.231e-02,  0.129]\n",
       "alpha[1]       0.0711  2.304e-02      3.085  2.034e-03 [2.592e-02,  0.116]\n",
       "gamma[1]       0.0694  2.418e-02      2.871  4.093e-03 [2.203e-02,  0.117]\n",
       "beta[1]        0.8631  2.437e-02     35.414 1.058e-274   [  0.815,  0.911]\n",
       "==========================================================================\n",
       "\n",
       "Covariance estimator: robust\n",
       "ARCHModelResult, id: 0x7fdbba266650"
      ]
     },
     "execution_count": 443,
     "metadata": {},
     "output_type": "execute_result"
    }
   ],
   "source": [
    "res"
   ]
  },
  {
   "cell_type": "code",
   "execution_count": 423,
   "id": "4da57be5-8d17-44a8-a451-8cdab99fb354",
   "metadata": {},
   "outputs": [],
   "source": [
    "sim = arx.simulate(res.params, 1200, initial_value_vol = 0.02) / 100"
   ]
  },
  {
   "cell_type": "code",
   "execution_count": 424,
   "id": "22467b5c-0ed2-47c6-8688-c7779842e01f",
   "metadata": {},
   "outputs": [
    {
     "data": {
      "text/plain": [
       "[<matplotlib.lines.Line2D at 0x7fdbdb562890>]"
      ]
     },
     "execution_count": 424,
     "metadata": {},
     "output_type": "execute_result"
    },
    {
     "data": {
      "image/png": "[encoded data removed]",
      "text/plain": [
       "<Figure size 432x288 with 1 Axes>"
      ]
     },
     "metadata": {
      "needs_background": "light"
     },
     "output_type": "display_data"
    }
   ],
   "source": [
    "plt.plot(100 * math.sqrt(252) * sim['volatility'])"
   ]
  },
  {
   "cell_type": "code",
   "execution_count": 425,
   "id": "12436dae-57c1-4b33-b970-fde07f6705e6",
   "metadata": {},
   "outputs": [
    {
     "data": {
      "text/plain": [
       "[<matplotlib.lines.Line2D at 0x7fdbc9eefa10>]"
      ]
     },
     "execution_count": 425,
     "metadata": {},
     "output_type": "execute_result"
    },
    {
     "data": {
      "image/png": "[encoded data removed]",
      "text/plain": [
       "<Figure size 432x288 with 1 Axes>"
      ]
     },
     "metadata": {
      "needs_background": "light"
     },
     "output_type": "display_data"
    }
   ],
   "source": [
    "plt.plot(49.823502 * np.exp(np.cumsum(sim['data'])))"
   ]
  },
  {
   "cell_type": "code",
   "execution_count": 426,
   "id": "a788fd3a-e24b-4282-9464-4ea87d3151c0",
   "metadata": {},
   "outputs": [
    {
     "data": {
      "text/plain": [
       "[<matplotlib.lines.Line2D at 0x7fdbfa47c990>]"
      ]
     },
     "execution_count": 426,
     "metadata": {},
     "output_type": "execute_result"
    },
    {
     "data": {
      "image/png": "[encoded data removed]",
      "text/plain": [
       "<Figure size 432x288 with 1 Axes>"
      ]
     },
     "metadata": {
      "needs_background": "light"
     },
     "output_type": "display_data"
    }
   ],
   "source": [
    "plt.plot(df['Close'])"
   ]
  },
  {
   "cell_type": "code",
   "execution_count": null,
   "id": "5e517071-ea35-446e-aea8-d37d02296256",
   "metadata": {},
   "outputs": [],
   "source": []
  }
 ],
 "metadata": {
  "kernelspec": {
   "display_name": "Python 3",
   "language": "python",
   "name": "python3"
  },
  "language_info": {
   "codemirror_mode": {
    "name": "ipython",
    "version": 3
   },
   "file_extension": ".py",
   "mimetype": "text/x-python",
   "name": "python",
   "nbconvert_exporter": "python",
   "pygments_lexer": "ipython3",
   "version": "3.7.4"
  }
 },
 "nbformat": 4,
 "nbformat_minor": 5
}
