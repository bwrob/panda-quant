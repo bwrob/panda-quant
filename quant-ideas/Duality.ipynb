{
 "cells": [
  {
   "cell_type": "code",
   "execution_count": 2,
   "id": "f740bf7a-4629-478c-a2cc-fe4a345bd6cc",
   "metadata": {},
   "outputs": [
    {
     "name": "stderr",
     "output_type": "stream",
     "text": [
      "In /opt/anaconda3/lib/python3.7/site-packages/matplotlib/mpl-data/stylelib/_classic_test.mplstyle: \n",
      "The text.latex.preview rcparam was deprecated in Matplotlib 3.3 and will be removed two minor releases later.\n",
      "In /opt/anaconda3/lib/python3.7/site-packages/matplotlib/mpl-data/stylelib/_classic_test.mplstyle: \n",
      "The mathtext.fallback_to_cm rcparam was deprecated in Matplotlib 3.3 and will be removed two minor releases later.\n",
      "In /opt/anaconda3/lib/python3.7/site-packages/matplotlib/mpl-data/stylelib/_classic_test.mplstyle: Support for setting the 'mathtext.fallback_to_cm' rcParam is deprecated since 3.3 and will be removed two minor releases later; use 'mathtext.fallback : 'cm' instead.\n",
      "In /opt/anaconda3/lib/python3.7/site-packages/matplotlib/mpl-data/stylelib/_classic_test.mplstyle: \n",
      "The validate_bool_maybe_none function was deprecated in Matplotlib 3.3 and will be removed two minor releases later.\n",
      "In /opt/anaconda3/lib/python3.7/site-packages/matplotlib/mpl-data/stylelib/_classic_test.mplstyle: \n",
      "The savefig.jpeg_quality rcparam was deprecated in Matplotlib 3.3 and will be removed two minor releases later.\n",
      "In /opt/anaconda3/lib/python3.7/site-packages/matplotlib/mpl-data/stylelib/_classic_test.mplstyle: \n",
      "The keymap.all_axes rcparam was deprecated in Matplotlib 3.3 and will be removed two minor releases later.\n",
      "In /opt/anaconda3/lib/python3.7/site-packages/matplotlib/mpl-data/stylelib/_classic_test.mplstyle: \n",
      "The animation.avconv_path rcparam was deprecated in Matplotlib 3.3 and will be removed two minor releases later.\n",
      "In /opt/anaconda3/lib/python3.7/site-packages/matplotlib/mpl-data/stylelib/_classic_test.mplstyle: \n",
      "The animation.avconv_args rcparam was deprecated in Matplotlib 3.3 and will be removed two minor releases later.\n"
     ]
    }
   ],
   "source": [
    "import numpy as np\n",
    "import scipy.stats as si\n",
    "import scipy.stats.mstats\n",
    "import pandas as pd\n",
    "import math\n",
    "import matplotlib.pyplot as plt\n",
    "plt.style.use('seaborn')\n",
    "\n",
    "from sklearn import datasets, linear_model\n",
    "from sklearn.metrics import mean_squared_error, r2_score\n",
    "from sklearn.gaussian_process.kernels import RBF, WhiteKernel, Matern, ConstantKernel\n",
    "from sklearn.gaussian_process import GaussianProcessRegressor\n",
    "from sklearn.neighbors import KernelDensity\n",
    "\n",
    "from torch.quasirandom import SobolEngine\n",
    "\n",
    "from scipy.stats.distributions import norm\n",
    "from scipy.optimize import fmin_bfgs\n",
    "from scipy.stats import gaussian_kde"
   ]
  },
  {
   "cell_type": "code",
   "execution_count": 3,
   "id": "5e7c2dec-1a8c-4892-a650-a695a21a70e8",
   "metadata": {},
   "outputs": [
    {
     "ename": "NameError",
     "evalue": "name 'gamma' is not defined",
     "output_type": "error",
     "traceback": [
      "\u001b[0;31m---------------------------------------------------------------------------\u001b[0m",
      "\u001b[0;31mNameError\u001b[0m                                 Traceback (most recent call last)",
      "\u001b[0;32m<ipython-input-3-ac0722ac9d62>\u001b[0m in \u001b[0;36m<module>\u001b[0;34m\u001b[0m\n\u001b[1;32m    186\u001b[0m     \u001b[0;32mreturn\u001b[0m \u001b[0mpayoffs\u001b[0m\u001b[0;34m,\u001b[0m \u001b[0mlabels\u001b[0m\u001b[0;34m\u001b[0m\u001b[0;34m\u001b[0m\u001b[0m\n\u001b[1;32m    187\u001b[0m \u001b[0;34m\u001b[0m\u001b[0m\n\u001b[0;32m--> 188\u001b[0;31m \u001b[0;32mdef\u001b[0m \u001b[0mPayoffUtility\u001b[0m\u001b[0;34m(\u001b[0m\u001b[0mport\u001b[0m\u001b[0;34m,\u001b[0m \u001b[0mtargetPayoff\u001b[0m\u001b[0;34m,\u001b[0m \u001b[0mmatchingPayoffs\u001b[0m\u001b[0;34m,\u001b[0m \u001b[0mrisk_aversion\u001b[0m \u001b[0;34m=\u001b[0m \u001b[0mgamma\u001b[0m\u001b[0;34m)\u001b[0m\u001b[0;34m:\u001b[0m\u001b[0;34m\u001b[0m\u001b[0;34m\u001b[0m\u001b[0m\n\u001b[0m\u001b[1;32m    189\u001b[0m     \u001b[0ml\u001b[0m \u001b[0;34m=\u001b[0m \u001b[0mrisk_aversion\u001b[0m\u001b[0;34m\u001b[0m\u001b[0;34m\u001b[0m\u001b[0m\n\u001b[1;32m    190\u001b[0m     \u001b[0mnumPath\u001b[0m \u001b[0;34m=\u001b[0m \u001b[0mlen\u001b[0m\u001b[0;34m(\u001b[0m\u001b[0mtargetPayoff\u001b[0m\u001b[0;34m)\u001b[0m\u001b[0;34m\u001b[0m\u001b[0;34m\u001b[0m\u001b[0m\n",
      "\u001b[0;31mNameError\u001b[0m: name 'gamma' is not defined"
     ]
    }
   ],
   "source": [
    "def BlackScholesExactSimulation(S, dts, r, sigma, numPath):\n",
    "    out = []\n",
    "    W = []\n",
    "    \n",
    "    if isinstance(S, np.ndarray) and len(S) == numPath:\n",
    "        currentPath = S\n",
    "    else:\n",
    "        currentPath = np.ones(numPath) * S\n",
    "        \n",
    "    out.append(np.array(currentPath))\n",
    "\n",
    "    for i in range(len(dts)-1):\n",
    "        wPath = np.random.normal(0,1, int(numPath / 2))\n",
    "        wPath = np.array([wPath, -wPath]).flatten()\n",
    "        avgVar = np.var(wPath)\n",
    "        wPath /= np.sqrt(avgVar)\n",
    "        wPath -= np.average(wPath)\n",
    "        W.append(np.array(wPath))\n",
    "        dt = dts[i+1]-dts[i]\n",
    "        currentPath *= np.exp((r - (sigma * sigma * 0.5))*dt + sigma * math.sqrt(dt) * wPath)\n",
    "        out.append(np.array(currentPath))\n",
    "    return (out, W)\n",
    "\n",
    "def BlackScholesExactSimulationSobol(S, dts, r, sigma, numPath, scramble=True):\n",
    "    out = []\n",
    "    W = []\n",
    "    \n",
    "    if isinstance(S, np.ndarray) and len(S) == numPath:\n",
    "        currentPath = S\n",
    "    else:\n",
    "        currentPath = np.ones(numPath) * S\n",
    "        \n",
    "    out.append(np.array(currentPath))\n",
    "\n",
    "    engine = SobolEngine(len(dts)-1, scramble=scramble, seed=None)\n",
    "    totalW = si.norm.ppf(np.array(engine.draw(numPath))*(1-2e-7)+1e-7)\n",
    "\n",
    "    for i in range(len(dts)-1):\n",
    "        wPath = totalW[:,i]\n",
    "        wPath -= np.average(wPath)\n",
    "        wPath /= np.sqrt(np.var(wPath))\n",
    "        W.append(np.array(wPath))\n",
    "        dt = dts[i+1]-dts[i]\n",
    "        currentPath *= np.exp((r - (sigma * sigma * 0.5))*dt + sigma * math.sqrt(dt) * wPath)\n",
    "        out.append(np.array(currentPath))\n",
    "    return (out, W)\n",
    "\n",
    "\n",
    "def BlackScholesStdDev(S, T, r, sigma):\n",
    "    return np.sqrt(S * S * np.exp(2 * T * (r - sigma * sigma * 0.5)) * (np.exp(sigma * sigma * T) - 1.0))\n",
    "\n",
    "def PriceEuroVanilla(S, K, T, r, sigma, option = 'call'):\n",
    "    \n",
    "    #S: spot price\n",
    "    #K: strike price\n",
    "    #T: time to maturity\n",
    "    #r: interest rate\n",
    "    #sigma: volatility of underlying asset\n",
    "    \n",
    "    d1 = (np.log(S / K) + (r + 0.5 * sigma ** 2) * T) / (sigma * np.sqrt(T))\n",
    "    d2 = (np.log(S / K) + (r - 0.5 * sigma ** 2) * T) / (sigma * np.sqrt(T))\n",
    "    \n",
    "    if option == 'call':\n",
    "        result = (S * si.norm.cdf(d1, 0.0, 1.0) - K * np.exp(-r * T) * si.norm.cdf(d2, 0.0, 1.0))\n",
    "    if option == 'put':\n",
    "        result = (K * np.exp(-r * T) * si.norm.cdf(-d2, 0.0, 1.0) - S * si.norm.cdf(-d1, 0.0, 1.0))\n",
    "        \n",
    "    return result\n",
    "\n",
    "def PriceEuroVanillaDelta(S, K, T, r, sigma, option = 'call'):\n",
    "    \n",
    "    #S: spot price\n",
    "    #K: strike price\n",
    "    #T: time to maturity\n",
    "    #r: interest rate\n",
    "    #sigma: volatility of underlying asset\n",
    "    \n",
    "    d1 = (np.log(S / K) + (r + 0.5 * sigma ** 2) * T) / (sigma * np.sqrt(T))\n",
    "    d2 = (np.log(S / K) + (r - 0.5 * sigma ** 2) * T) / (sigma * np.sqrt(T))\n",
    "    \n",
    "    if option == 'call':\n",
    "        result = si.norm.cdf(d1, 0.0, 1.0)\n",
    "    if option == 'put':\n",
    "        result =  - si.norm.cdf(-d1, 0.0, 1.0)\n",
    "        \n",
    "    return result\n",
    "\n",
    "def PriceEuroVanillaGamma(S, K, T, r, sigma, option = 'call'):\n",
    "    \n",
    "    #S: spot price\n",
    "    #K: strike price\n",
    "    #T: time to maturity\n",
    "    #r: interest rate\n",
    "    #sigma: volatility of underlying asset\n",
    "    \n",
    "    d1 = (np.log(S / K) + (r + 0.5 * sigma ** 2) * T) / (sigma * np.sqrt(T))\n",
    "    result = si.norm.pdf(d1, 0.0, 1.0)/(S*sigma*np.sqrt(T))\n",
    "\n",
    "    return result\n",
    "\n",
    "def PriceEuroVanillaVega(S, K, T, r, sigma, option = 'call'):\n",
    "    \n",
    "    #S: spot price\n",
    "    #K: strike price\n",
    "    #T: time to maturity\n",
    "    #r: interest rate\n",
    "    #sigma: volatility of underlying asset\n",
    "    \n",
    "    d1 = (np.log(S / K) + (r + 0.5 * sigma ** 2) * T) / (sigma * np.sqrt(T))\n",
    "    \n",
    "    result = S * si.norm.pdf(d1, 0.0, 1.0) * math.sqrt(T)\n",
    "        \n",
    "    return result\n",
    "\n",
    "\n",
    "def PriceBarrierOptions(S, K, r, sigma, T, H):\n",
    "    \n",
    "    d1 = (np.log(S / K) + (r + 0.5 * sigma ** 2) * T) / (sigma * np.sqrt(T))\n",
    "    d2 = (np.log(S / K) + (r - 0.5 * sigma ** 2) * T) / (sigma * np.sqrt(T))\n",
    "\n",
    "    nd1 = norm.cdf(d1, 0.0, 1.0)\n",
    "    nd2 = norm.cdf(d2, 0.0, 1.0)\n",
    "    nd1minus = norm.cdf(-d1, 0.0, 1.0)\n",
    "    nd2minus = norm.cdf(-d2, 0.0, 1.0)\n",
    "\n",
    "    l = (r + (sigma * sigma *0.5)) / (sigma * sigma)\n",
    "    y = np.log((H*H)/(S*K)) / (sigma * np.sqrt(T)) + l * sigma * np.sqrt(T)\n",
    "    x1 = np.log(S/H)/(sigma * np.sqrt(T))+l*sigma * np.sqrt(T)\n",
    "    y1 = np.log(H/S)/(sigma * np.sqrt(T))+l*sigma * np.sqrt(T)\n",
    "\n",
    "    c = S * nd1 - K * np.exp(-r*T) * nd2\n",
    "    p = K * np.exp(-r*T) * nd2minus  - S * nd1minus\n",
    "    cdi = S * (H/S)**(2*l) * norm.cdf(y) - K * np.exp(-r*T) * (H/S)**(2*l-2.0) * norm.cdf(y-sigma*np.sqrt(T))\n",
    "    pdi = - S * norm.cdf(-x1) + K * np.exp(-r*T) * norm.cdf(-x1+sigma*np.sqrt(T)) + S*(H/S)**(2*l)*(norm.cdf(y)-norm.cdf(y1))-K*np.exp(-r*T)*(H/S)**(2*l-2.0)*(norm.cdf(y-sigma*np.sqrt(T))-norm.cdf(y1-sigma*np.sqrt(T))) \n",
    "    \n",
    "    cdo = c - cdi\n",
    "    pdo = p - pdi\n",
    "\n",
    "    result=np.maximum([c,p,cdi,cdo,pdi,pdo], 0.0)\n",
    "    #result = {\n",
    "        #'c' : c,\n",
    "        #'p' : p,\n",
    "        #'cdi' : cdi,\n",
    "        #'cdo' : cdo,\n",
    "        #'pdi' : pdi,\n",
    "        #'pdo' : pdo\n",
    "    #}\n",
    "\n",
    "    return result \n",
    "\n",
    "\n",
    "def TerminalDigitalPayoff(putStrikes, callStrikes, ST):\n",
    "    payoffs = []\n",
    "    labels = []\n",
    "    \n",
    "    fwd = np.average(ST)\n",
    "    #labels.append('ATM Fwd')\n",
    "    #payoffs.append(np.array(ST) - fwd)\n",
    "    \n",
    "    \n",
    "    for strike in putStrikes:\n",
    "        payoffs.append(1.0 * (strike - ST > 0))\n",
    "        labels.append(str(strike) + ' Digi Put')\n",
    "    for strike in callStrikes:\n",
    "        payoffs.append(1.0 * (ST - strike > 0))\n",
    "        labels.append(str(strike) + ' Digi Call')\n",
    "    return payoffs, labels\n",
    "\n",
    "def TerminalVanillaPayoff(putStrikes, callStrikes, ST):\n",
    "    payoffs = []\n",
    "    labels = []\n",
    "    \n",
    "    fwd = np.average(ST)\n",
    "    #labels.append('ATM Fwd')\n",
    "    #payoffs.append(np.array(ST) - fwd)\n",
    "    \n",
    "    if not putStrikes is None:\n",
    "        for strike in putStrikes:\n",
    "            payoffs.append(np.maximum(strike - ST, 0))\n",
    "            labels.append(str(strike) + ' Put')\n",
    "            \n",
    "    if not callStrikes is None:\n",
    "        for strike in callStrikes:\n",
    "            payoffs.append(np.maximum(ST - strike, 0))\n",
    "            labels.append(str(strike) + ' Call')\n",
    "    return payoffs, labels\n",
    "\n",
    "def PayoffUtility(port, targetPayoff, matchingPayoffs, risk_aversion = gamma):\n",
    "    l = risk_aversion\n",
    "    numPath = len(targetPayoff)\n",
    "    portTiled = np.tile(port, numPath).reshape(numPath, -1).T\n",
    "    x = np.sum(portTiled * matchingPayoffs, 0) - targetPayoff\n",
    "    mean = np.average(x)\n",
    "    return np.log(np.mean(np.exp(-l * x))) / l\n",
    "\n",
    "def LogContractPayoff(S, eps=0.0):\n",
    "    diff = 0.0\n",
    "    numPath = len(S[0])\n",
    "    for i in np.arange(len(S)-1):\n",
    "        noise = 1.0 + np.random.normal(0,eps,numPath)\n",
    "        diff += ((S[i+1]*noise-S[i])/S[i])\n",
    "    return [diff, -np.log(S[-1]/S[0])], ['diff', 'LogForward']\n",
    "\n",
    "def VarswapPayoff(K, S, A):\n",
    "    variance = 0.0\n",
    "    for i in np.arange(len(S)-1):\n",
    "        variance += np.log(S[i+1]/S[i]) ** 2\n",
    "    variance *= A / (len(S) - 1)\n",
    "    return variance - K"
   ]
  },
  {
   "cell_type": "code",
   "execution_count": null,
   "id": "f1e88be1-896c-4313-9d0f-2ac012950673",
   "metadata": {},
   "outputs": [],
   "source": [
    "S0 = 100.0\n",
    "numPath = 10000\n",
    "r = 0.0\n",
    "T = 1.0\n",
    "sigmaP = 0.2\n",
    "sigmaQ = 0.4\n",
    "\n",
    "dts = np.arange(0.0, T, 0.1)\n",
    "T = dts[-1]\n",
    "\n",
    "putStrikes = None\n",
    "callStrikes = [110.0, 120.0]\n",
    "\n",
    "(S_P, W_P) = BlackScholesExactSimulationSobol(S0, dts, r, sigmaP, numPath)\n",
    "(S_Q, W_Q) = BlackScholesExactSimulationSobol(S0, dts, r, sigmaQ, numPath)\n",
    "\n",
    "S_PT = S_P[-1]\n",
    "S_QT = S_Q[-1]\n",
    "\n",
    "payoffs_P, vlabels = TerminalVanillaPayoff(putStrikes, callStrikes, S_PT)\n",
    "payoffs_Q, vlabels = TerminalVanillaPayoff(putStrikes, callStrikes, S_QT)\n",
    "\n",
    "prices_P = np.mean(payoffs_P, 1) * np.exp(-r*T)\n",
    "prices_Q = np.mean(payoffs_Q, 1) * np.exp(-r*T)\n",
    "\n",
    "gamma = 0.1\n",
    "K1 = 120.0\n",
    "K2 = 110.0\n",
    "bP = np.maximum(S_PT - K2, 0.0) - np.maximum(S_PT - K1, 0.0) \n",
    "bQ = np.maximum(S_QT - K2, 0.0) - np.maximum(S_QT - K1, 0.0) \n",
    "\n",
    "prices_tiled = np.tile(prices_Q, numPath).reshape(numPath, -1).T\n",
    "n_assets = prices_tiled.shape[0]\n",
    "\n",
    "deltas = np.array(payoffs_P) - prices_tiled\n",
    "\n",
    "def W0(lambdas):\n",
    "    n_assets = deltas.shape[0]\n",
    "    n_paths = deltas.shape[1]\n",
    "    return np.log(np.sum(np.exp(np.matmul(lambdas, deltas) + bP*gamma) / n_assets))\n",
    "\n",
    "lambdas = fmin_bfgs(W0, np.zeros(n_assets))\n",
    "\n",
    "Z0 = np.sum(np.exp(np.matmul(lambdas, deltas)) / n_assets)\n",
    "m = (np.exp(np.matmul(lambdas, deltas)) / n_assets) / Z0\n",
    "\n",
    "n = np.ones(numPath) * (1/numPath)\n",
    "l = np.mean(np.log(n/m))\n",
    "np.sum(bP * m), np.sum(bP * n), np.sum(bQ * n), -lambdas / gamma"
   ]
  },
  {
   "cell_type": "code",
   "execution_count": 1737,
   "id": "b63ee439-750c-40f4-a0c8-f4a19340bd01",
   "metadata": {},
   "outputs": [
    {
     "data": {
      "text/plain": [
       "(1.395245588455901,\n",
       " 2.0499642745430813,\n",
       " 2.886295795283853,\n",
       " array([ 1.66836285, -2.31016603]))"
      ]
     },
     "execution_count": 1737,
     "metadata": {},
     "output_type": "execute_result"
    }
   ],
   "source": [
    "n = np.ones(numPath) * (1/numPath)\n",
    "l = np.mean(np.log(n/m))\n",
    "np.sum(bP * m), np.sum(bP * n), np.sum(bQ * n), -lambdas / gamma"
   ]
  },
  {
   "cell_type": "code",
   "execution_count": 1736,
   "id": "d9022a08-3775-4fd9-b488-190b8e071716",
   "metadata": {},
   "outputs": [
    {
     "name": "stdout",
     "output_type": "stream",
     "text": [
      "Optimization terminated successfully.\n",
      "         Current function value: 0.372735\n",
      "         Iterations: 9\n",
      "         Function evaluations: 33\n",
      "         Gradient evaluations: 11\n"
     ]
    },
    {
     "data": {
      "text/html": [
       "<div>\n",
       "<style scoped>\n",
       "    .dataframe tbody tr th:only-of-type {\n",
       "        vertical-align: middle;\n",
       "    }\n",
       "\n",
       "    .dataframe tbody tr th {\n",
       "        vertical-align: top;\n",
       "    }\n",
       "\n",
       "    .dataframe thead th {\n",
       "        text-align: right;\n",
       "    }\n",
       "</style>\n",
       "<table border=\"1\" class=\"dataframe\">\n",
       "  <thead>\n",
       "    <tr style=\"text-align: right;\">\n",
       "      <th></th>\n",
       "      <th>0</th>\n",
       "    </tr>\n",
       "  </thead>\n",
       "  <tbody>\n",
       "    <tr>\n",
       "      <th>0</th>\n",
       "      <td>1.668363</td>\n",
       "    </tr>\n",
       "    <tr>\n",
       "      <th>1</th>\n",
       "      <td>-2.310166</td>\n",
       "    </tr>\n",
       "  </tbody>\n",
       "</table>\n",
       "</div>"
      ],
      "text/plain": [
       "          0\n",
       "0  1.668363\n",
       "1 -2.310166"
      ]
     },
     "execution_count": 1736,
     "metadata": {},
     "output_type": "execute_result"
    }
   ],
   "source": [
    "port_v = fmin_bfgs(PayoffUtility, np.zeros(len(payoffs_P)), args=(bP, deltas, gamma))\n",
    "pd.DataFrame(port_v)"
   ]
  },
  {
   "cell_type": "code",
   "execution_count": 1738,
   "id": "9773ccd1-d386-49f1-a8d7-92c4cd80e0fe",
   "metadata": {},
   "outputs": [
    {
     "data": {
      "text/plain": [
       "<matplotlib.legend.Legend at 0x7ff611f2b3d0>"
      ]
     },
     "execution_count": 1738,
     "metadata": {},
     "output_type": "execute_result"
    },
    {
     "data": {
      "image/png": "[encoded data removed]",
      "text/plain": [
       "<Figure size 1152x720 with 1 Axes>"
      ]
     },
     "metadata": {},
     "output_type": "display_data"
    }
   ],
   "source": [
    "bins = np.arange(50.0, 150.0, 1.0)\n",
    "\n",
    "kernel_pw = gaussian_kde(S_PT, weights=m)\n",
    "kernel_p = gaussian_kde(S_PT)\n",
    "kernel_q = gaussian_kde(S_QT)\n",
    "\n",
    "scores_pw = kernel_pw(bins)\n",
    "scores_p = kernel_p(bins)\n",
    "scores_q = kernel_q(bins)\n",
    "\n",
    "plt.figure(figsize=[16,10])\n",
    "plt.plot(bins, scores_pw, label='pw')\n",
    "plt.plot(bins, scores_p, label='p')\n",
    "plt.plot(bins, scores_q, label='q')\n",
    "\n",
    "plt.legend()"
   ]
  },
  {
   "cell_type": "code",
   "execution_count": 2995,
   "id": "df88a4f5-fcf8-4ca1-8f14-ccddf11fbb3d",
   "metadata": {},
   "outputs": [
    {
     "name": "stdout",
     "output_type": "stream",
     "text": [
      "0.0 [ 0.01207088 -0.03996813]\n",
      "0.01 [ 2.20708764 -4.99681135] 0.15941876078942085\n",
      "0.05 [ 1.24141732 -1.79936204] 0.7165519618991907\n",
      "0.1 [ 1.12070871 -1.39968105] 1.2427166214869778\n",
      "0.5 [ 1.02414184 -1.0799365 ] 2.322560812254606\n",
      "1.0 [ 1.01207087 -1.03996811] 2.387086347263412\n",
      "5.0 [ 1.00241417 -1.00799362] 2.4057620818541183\n",
      "\n",
      "Indifference Prices\n",
      "[2.40664667 2.40664667 2.40664667 2.40664667 2.40664667 2.40664667]\n",
      "\n",
      "Risk Neutral Price\n",
      "2.406646330735558\n"
     ]
    },
    {
     "data": {
      "image/png": "[encoded data removed]",
      "text/plain": [
       "<Figure size 576x396 with 1 Axes>"
      ]
     },
     "metadata": {},
     "output_type": "display_data"
    }
   ],
   "source": [
    "S0 = 100.0\n",
    "numPath = 10000\n",
    "r = 0.0\n",
    "T = 1.0\n",
    "sigmaP = 0.2\n",
    "sigmaQ = 0.25\n",
    "\n",
    "dts = np.arange(0.0, T, 0.1)\n",
    "T = dts[-1]\n",
    "\n",
    "putStrikes = None\n",
    "callStrikes = [110.0, 120.0]\n",
    "\n",
    "(S_P, W_P) = BlackScholesExactSimulationSobol(S0, dts, r, sigmaP, numPath, scramble=False)\n",
    "(S_Q, W_Q) = BlackScholesExactSimulationSobol(S0, dts, r, sigmaQ, numPath, scramble=False)\n",
    "\n",
    "S_PT = S_P[-1]\n",
    "S_QT = S_Q[-1]\n",
    "\n",
    "payoffs_P, vlabels = TerminalVanillaPayoff(putStrikes, callStrikes, S_PT)\n",
    "payoffs_Q, vlabels = TerminalVanillaPayoff(putStrikes, callStrikes, S_QT)\n",
    "\n",
    "prices_P = np.mean(payoffs_P, 1) * np.exp(-r*T)\n",
    "prices_Q = np.mean(payoffs_Q, 1) * np.exp(-r*T)\n",
    "\n",
    "gammas = [0.00, 0.01, 0.05, 0.1, 0.5, 1.0, 5.0]\n",
    "\n",
    "lambdaList = []\n",
    "wbList = []\n",
    "w_0 = 0\n",
    "\n",
    "for gamma in gammas:\n",
    "    K1 = 120.0\n",
    "    K2 = 110.0\n",
    "    bP = np.maximum(S_PT - K2, 0.0) - np.maximum(S_PT - K1, 0.0) \n",
    "    bQ = np.maximum(S_QT - K2, 0.0) - np.maximum(S_QT - K1, 0.0) \n",
    "\n",
    "    prices_tiled = np.tile(prices_Q, numPath).reshape(numPath, -1).T\n",
    "    n_assets = prices_tiled.shape[0]\n",
    "\n",
    "    deltas = np.array(payoffs_P) - prices_tiled\n",
    "\n",
    "    def W0(lambdas):\n",
    "        n_assets = deltas.shape[0]\n",
    "        n_paths = deltas.shape[1]\n",
    "        return np.log(np.sum(np.exp(np.matmul(lambdas, deltas) + bP*gamma) / n_assets))\n",
    "\n",
    "    lambdas = fmin_bfgs(W0, np.zeros(n_assets), disp=0)\n",
    "    wb = W0(lambdas)\n",
    "    wbList.append(wb)\n",
    "    lambdaList.append(lambdas)\n",
    "    \n",
    "    Z0 = np.sum(np.exp(np.matmul(lambdas, deltas)) / n_assets)\n",
    "    m = (np.exp(np.matmul(lambdas, deltas)) / n_assets) / Z0\n",
    "    n = np.ones(numPath) * (1/numPath)\n",
    "    l = np.mean(np.log(n/m))\n",
    "    if gamma == 0:\n",
    "        m_0 = m\n",
    "        w_0 = wb\n",
    "        print(gamma, -lambdas)\n",
    "    else:\n",
    "        port_v\n",
    "        print(gamma, -lambdas / gamma, np.sum(m_0 * bP) - np.sum(m * bP))\n",
    "        \n",
    "df = pd.DataFrame()\n",
    "s0 = pd.Series(-np.array(lambdaList[1:])[:,0]/np.array(gammas)[1:], index=gammas[1:], name=vlabels[0])\n",
    "s1 = pd.Series(-np.array(lambdaList[1:])[:,1]/np.array(gammas)[1:], index=gammas[1:], name=vlabels[1])\n",
    "df = pd.DataFrame([s0,s1])\n",
    "df.plot.bar()\n",
    "\n",
    "\n",
    "print()\n",
    "print('Indifference Prices')\n",
    "print((wbList[1:] - w_0)/gammas[1:])\n",
    "print()\n",
    "print('Risk Neutral Price')\n",
    "print(np.sum(m_0 * bP))\n"
   ]
  },
  {
   "cell_type": "code",
   "execution_count": 3008,
   "id": "38cf45a6-f8af-40ba-aeaf-d55e4f10cd80",
   "metadata": {},
   "outputs": [
    {
     "data": {
      "text/plain": [
       "-0.06270021304724953"
      ]
     },
     "execution_count": 3008,
     "metadata": {},
     "output_type": "execute_result"
    }
   ],
   "source": [
    "np.sum(prices_Q * [0.01207088, -0.03996813])"
   ]
  },
  {
   "cell_type": "code",
   "execution_count": 3002,
   "id": "50e09d66-5b15-476a-a609-5fe50c2589e0",
   "metadata": {},
   "outputs": [
    {
     "data": {
      "text/plain": [
       "array([5.69552124, 3.28887457])"
      ]
     },
     "execution_count": 3002,
     "metadata": {},
     "output_type": "execute_result"
    }
   ],
   "source": [
    "prices_Q "
   ]
  },
  {
   "cell_type": "code",
   "execution_count": 2056,
   "id": "70879c1c-68ab-4ee3-ae96-503dbc76bf54",
   "metadata": {},
   "outputs": [
    {
     "data": {
      "text/plain": [
       "array([2.41368397, 2.41368397, 2.41368397, 2.41368397, 2.41368397,\n",
       "       2.41368397])"
      ]
     },
     "execution_count": 2056,
     "metadata": {},
     "output_type": "execute_result"
    }
   ],
   "source": [
    "(wbList[1:] - w_0)/gammas[1:]"
   ]
  },
  {
   "cell_type": "code",
   "execution_count": 1907,
   "id": "c7392dc0-de7c-4720-9b14-fc654fb03780",
   "metadata": {},
   "outputs": [
    {
     "data": {
      "text/plain": [
       "(0.5,\n",
       " array([ 1.00000008, -1.00000025]),\n",
       " array([ 1.02414184, -1.0799365 ]),\n",
       " array([ 1.02414308, -1.07993794]))"
      ]
     },
     "execution_count": 1907,
     "metadata": {},
     "output_type": "execute_result"
    }
   ],
   "source": [
    "idx = 3\n",
    "gammas[idx], -(lambdaList[idx] - lambdaList[0]) / gammas[idx], -lambdaList[idx] / gammas[idx], ports[idx]"
   ]
  },
  {
   "cell_type": "code",
   "execution_count": 2882,
   "id": "2427822d-f463-43e2-a329-3bdc83aaf750",
   "metadata": {},
   "outputs": [
    {
     "name": "stdout",
     "output_type": "stream",
     "text": [
      "Actual Price = 2.4136839734098596\n",
      "0.0\n",
      "-3.9180030219626403\n",
      "1.1473481191147545\n",
      "1.7805162468938232\n",
      "2.287050441935686\n"
     ]
    },
    {
     "name": "stderr",
     "output_type": "stream",
     "text": [
      "/opt/anaconda3/lib/python3.7/site-packages/ipykernel_launcher.py:7: RuntimeWarning: invalid value encountered in double_scalars\n",
      "  import sys\n"
     ]
    },
    {
     "name": "stdout",
     "output_type": "stream",
     "text": [
      "2.350367162450004\n",
      "2.401020602340691\n"
     ]
    },
    {
     "data": {
      "text/plain": [
       "<AxesSubplot:>"
      ]
     },
     "execution_count": 2882,
     "metadata": {},
     "output_type": "execute_result"
    },
    {
     "data": {
      "image/png": "[encoded data removed]",
      "text/plain": [
       "<Figure size 576x396 with 1 Axes>"
      ]
     },
     "metadata": {},
     "output_type": "display_data"
    }
   ],
   "source": [
    "def PayoffUtility(port, targetPayoff, matchingPayoffs, risk_aversion = gamma):\n",
    "    l = risk_aversion\n",
    "    numPath = len(targetPayoff)\n",
    "    portTiled = np.tile(port, numPath).reshape(numPath, -1).T\n",
    "    x = np.sum(portTiled * matchingPayoffs, 0) - targetPayoff\n",
    "    mean = np.average(x)\n",
    "    return np.log(np.mean(np.exp(-l * x))) / l\n",
    "\n",
    "ports = []\n",
    "\n",
    "S0 = 100.0\n",
    "numPath = 100000\n",
    "r = 0.0\n",
    "T = 1.0\n",
    "sigmaP = 0.2\n",
    "sigmaQ = 0.25\n",
    "\n",
    "dts = np.arange(0.0, T, 0.1)\n",
    "T = dts[-1]\n",
    "\n",
    "putStrikes = None\n",
    "callStrikes = [110.0, 120.0]\n",
    "\n",
    "(S_P, W_P) = BlackScholesExactSimulationSobol(S0, dts, r, sigmaP, numPath, scramble=False)\n",
    "(S_Q, W_Q) = BlackScholesExactSimulationSobol(S0, dts, r, sigmaQ, numPath, scramble=False)\n",
    "\n",
    "S_PT = S_P[-1]\n",
    "S_QT = S_Q[-1]\n",
    "\n",
    "payoffs_P, vlabels = TerminalVanillaPayoff(putStrikes, callStrikes, S_PT)\n",
    "payoffs_Q, vlabels = TerminalVanillaPayoff(putStrikes, callStrikes, S_QT)\n",
    "\n",
    "prices_P = np.mean(payoffs_P, 1) * np.exp(-r*T)\n",
    "prices_Q = np.mean(payoffs_Q, 1) * np.exp(-r*T)\n",
    "\n",
    "print('Actual Price = ' + str(prices_Q[0] - prices_Q[1]))\n",
    "\n",
    "K1 = 120.0\n",
    "K2 = 110.0\n",
    "    \n",
    "bP = np.maximum(S_PT - K2, 0.0) - np.maximum(S_PT - K1, 0.0) \n",
    "bQ = np.maximum(S_QT - K2, 0.0) - np.maximum(S_QT - K1, 0.0) \n",
    "\n",
    "gammas = [0.00, 0.01, 0.05, 0.1, 0.5, 1.0, 5.0]\n",
    "\n",
    "prices_tiled = np.tile(prices_Q, numPath).reshape(numPath, -1).T\n",
    "deltas = np.array(payoffs_P) - prices_tiled\n",
    "\n",
    "for gamma in gammas:\n",
    "    port_v = fmin_bfgs(PayoffUtility, np.zeros(len(payoffs_P)), args=(bP, deltas, gamma), disp=0)\n",
    "    print(np.sum(port_v*prices_Q))\n",
    "    ports.append(port_v)\n",
    "    \n",
    "df = pd.DataFrame()\n",
    "s0 = pd.Series(np.array(ports[1:])[:,0], index=gammas[1:], name=vlabels[0])\n",
    "s1 = pd.Series(np.array(ports[1:])[:,1], index=gammas[1:], name=vlabels[1])\n",
    "df = pd.DataFrame([s0,s1])\n",
    "df.plot.bar()\n",
    "\n",
    "\n"
   ]
  },
  {
   "cell_type": "code",
   "execution_count": 2368,
   "id": "d2bc2d50-ebc2-496b-9a95-993e7e6fce52",
   "metadata": {},
   "outputs": [
    {
     "data": {
      "text/plain": [
       "<AxesSubplot:>"
      ]
     },
     "execution_count": 2368,
     "metadata": {},
     "output_type": "execute_result"
    },
    {
     "data": {
      "image/png": "[encoded data removed]",
      "text/plain": [
       "<Figure size 576x396 with 1 Axes>"
      ]
     },
     "metadata": {},
     "output_type": "display_data"
    }
   ],
   "source": [
    "df = pd.DataFrame()\n",
    "s0 = pd.Series(np.array(ports[1:])[:,0], index=gammas[1:], name=vlabels[0])\n",
    "s1 = pd.Series(np.array(ports[1:])[:,1], index=gammas[1:], name=vlabels[1])\n",
    "df = pd.DataFrame([s0,s1])\n",
    "df.plot.bar()"
   ]
  },
  {
   "cell_type": "code",
   "execution_count": 2993,
   "id": "da5375f4-db8f-4e6a-a6b0-4472ff93e7a8",
   "metadata": {},
   "outputs": [
    {
     "name": "stdout",
     "output_type": "stream",
     "text": [
      "0.0 [-0.03123781  0.02857444  0.11979966 -0.14297846  0.02314767] 0.2230707366509613\n",
      "0.05 [-0.6281889   0.57458026  3.03038021 -3.17123471  1.16868546] 12.32439998278322 7.40743708181178\n",
      "0.1 [-0.31485532  0.28797506  1.80776566 -1.5027025   0.72726276] 10.35726565028226 7.446345700662526\n",
      "0.5 [-6.42409346e-02  5.87402934e-02  8.84455874e-01  1.31933285e-01\n",
      " -7.48567471e-04] 9.082036186927658 7.470896154666185\n",
      "1.0 [-0.03417575  0.03122299  0.87015027  0.21278174 -0.07482344] 8.984609080867644 7.472647686035394\n",
      "3.0 [-0.01334801  0.01216943  0.94558787  0.09941533 -0.04233998] 8.927264552564978 7.473689077732646\n",
      "\n",
      "Indifference Prices\n",
      "[7.9254849  8.15219387 8.63159737 8.7441569  8.83266413]\n",
      "\n",
      "Risk Neutral Price\n",
      "7.503202854410649 7.668675420153785\n"
     ]
    },
    {
     "data": {
      "text/plain": [
       "<AxesSubplot:>"
      ]
     },
     "execution_count": 2993,
     "metadata": {},
     "output_type": "execute_result"
    },
    {
     "data": {
      "image/png": "[encoded data removed]",
      "text/plain": [
       "<Figure size 576x396 with 1 Axes>"
      ]
     },
     "metadata": {},
     "output_type": "display_data"
    }
   ],
   "source": [
    "S0 = 100.0\n",
    "numPath = 100000\n",
    "r = 0.02\n",
    "T = 1.0\n",
    "H = 90\n",
    "K = 100\n",
    "sigmaP = 0.2\n",
    "sigmaQ = 0.2\n",
    "\n",
    "dts = np.arange(0.0, T, 0.005)\n",
    "T = dts[-1]\n",
    "\n",
    "putStrikes = [90.0, 100.0]\n",
    "callStrikes = [100.0, 102.5, 105.0]\n",
    "\n",
    "(S_P, W_P) = BlackScholesExactSimulationSobol(S0, dts, r, sigmaP, numPath)\n",
    "(S_Q, W_Q) = BlackScholesExactSimulationSobol(S0, dts, r, sigmaQ, numPath)\n",
    "\n",
    "S_PT = S_P[-1]\n",
    "S_QT = S_Q[-1]\n",
    "\n",
    "payoffs_P, vlabels = TerminalVanillaPayoff(putStrikes, callStrikes, S_PT)\n",
    "payoffs_Q, vlabels = TerminalVanillaPayoff(putStrikes, callStrikes, S_QT)\n",
    "\n",
    "prices_P = np.mean(payoffs_P, 1) * np.exp(-r*T)\n",
    "prices_Q = np.mean(payoffs_Q, 1) * np.exp(-r*T)\n",
    "\n",
    "gammas = [0.00, 0.05, 0.1, 0.5, 1.0, 3.0]\n",
    "bP = np.maximum(S_PT - K, 0.0) * (np.min(S_P,axis=0) > H)\n",
    "bQ = np.maximum(S_QT - K, 0.0) * (np.min(S_Q,axis=0) > H)\n",
    "\n",
    "lambdaList = []\n",
    "wbList = []\n",
    "portList = []\n",
    "\n",
    "for gamma in gammas:\n",
    "    prices_tiled = np.tile(prices_Q, numPath).reshape(numPath, -1).T\n",
    "    n_assets = prices_tiled.shape[0]\n",
    "\n",
    "    deltas = np.array(payoffs_P) - prices_tiled\n",
    "\n",
    "    def W0(lambdas):\n",
    "        n_assets = deltas.shape[0]\n",
    "        n_paths = deltas.shape[1]\n",
    "        return np.log(np.sum(np.exp(np.matmul(lambdas, deltas) + bP*gamma) / n_assets))\n",
    "\n",
    "    lambdas = fmin_bfgs(W0, np.zeros(n_assets), disp=0)\n",
    "    wb = W0(lambdas)\n",
    "    wbList.append(wb)\n",
    "    lambdaList.append(lambdas)\n",
    "    \n",
    "    Z0 = np.sum(np.exp(np.matmul(lambdas, deltas)) / n_assets)\n",
    "    m = (np.exp(np.matmul(lambdas, deltas)) / n_assets) / Z0\n",
    "    n = np.ones(numPath) * (1/numPath)\n",
    "    l = np.mean(np.log(n/m))\n",
    "    \n",
    "    if gamma == 0:\n",
    "        m_0 = m\n",
    "        w_0 = wb\n",
    "        \n",
    "        port = -lambdas\n",
    "        port_tiled = np.tile(port, numPath).reshape(numPath, -1).T\n",
    "        portVal = np.sum(payoffs_Q * port_tiled,0)\n",
    "        \n",
    "        print(gamma, -lambdas, np.mean(portVal))\n",
    "    else:\n",
    "        port = (-lambdas / gamma)\n",
    "        portList.append(port)\n",
    "        \n",
    "        port_tiled = np.tile(port, numPath).reshape(numPath, -1).T\n",
    "        portVal = np.sum(payoffs_P * port_tiled,0)\n",
    "        res = bP - portVal\n",
    "\n",
    "        print(gamma, -lambdas / gamma, np.sum(port * prices_Q), np.sum(port * prices_Q) + np.mean(res))\n",
    "\n",
    "print()\n",
    "print('Indifference Prices')\n",
    "print((wbList[1:] - w_0)/gammas[1:])\n",
    "print()\n",
    "print('Risk Neutral Price')\n",
    "print(np.sum(m_0 * bP), np.mean(bQ))\n",
    "\n",
    "df = pd.DataFrame()\n",
    "sList = []\n",
    "\n",
    "for idx in range(len(portList)):\n",
    "    sList.append(pd.Series(np.array(portList)[:,idx].T, index=gammas[1:], name=vlabels[idx]))\n",
    "\n",
    "df = pd.DataFrame(sList)\n",
    "df.plot.bar()"
   ]
  },
  {
   "cell_type": "code",
   "execution_count": 2987,
   "id": "86fa1af5-7140-448e-a091-b4e21f3c412c",
   "metadata": {},
   "outputs": [
    {
     "ename": "ValueError",
     "evalue": "operands could not be broadcast together with shapes (100000,) (5,) ",
     "output_type": "error",
     "traceback": [
      "\u001b[0;31m---------------------------------------------------------------------------\u001b[0m",
      "\u001b[0;31mValueError\u001b[0m                                Traceback (most recent call last)",
      "\u001b[0;32m<ipython-input-2987-381c5309a23d>\u001b[0m in \u001b[0;36m<module>\u001b[0;34m\u001b[0m\n\u001b[0;32m----> 1\u001b[0;31m \u001b[0mportVal\u001b[0m \u001b[0;34m*\u001b[0m \u001b[0mprices_Q\u001b[0m\u001b[0;34m\u001b[0m\u001b[0;34m\u001b[0m\u001b[0m\n\u001b[0m",
      "\u001b[0;31mValueError\u001b[0m: operands could not be broadcast together with shapes (100000,) (5,) "
     ]
    }
   ],
   "source": [
    "portVal * prices_Q"
   ]
  },
  {
   "cell_type": "code",
   "execution_count": 2984,
   "id": "3cdfb66a-f281-4019-86ee-2b581fd28c9f",
   "metadata": {},
   "outputs": [
    {
     "data": {
      "text/plain": [
       "array([ 0.06967011, 12.10058579,  0.10723445, ...,  0.11167293,\n",
       "        0.06600646,  2.87133661])"
      ]
     },
     "execution_count": 2984,
     "metadata": {},
     "output_type": "execute_result"
    }
   ],
   "source": [
    "portVal"
   ]
  },
  {
   "cell_type": "code",
   "execution_count": 3010,
   "id": "184da514-c392-4653-bc45-a88c184c9d70",
   "metadata": {},
   "outputs": [
    {
     "name": "stdout",
     "output_type": "stream",
     "text": [
      "0.0 [-0.03259527  0.02937008  0.13710018 -0.18090283  0.04413911]\n",
      "0.05 12.406943975309458\n",
      "0.1 10.409460361540734\n",
      "0.5 9.108919668932609\n",
      "1.0 9.008220090319805\n",
      "3.0 8.947762446735876\n",
      "\n",
      "Indifference Prices\n",
      "[7.95389327 8.17587989 8.6502173  8.76219065 8.85019282]\n",
      "\n",
      "Risk Neutral Price\n",
      "7.694271697065709\n",
      "7.543470774586992\n"
     ]
    },
    {
     "data": {
      "image/png": "[encoded data removed]",
      "text/plain": [
       "<Figure size 576x396 with 1 Axes>"
      ]
     },
     "metadata": {},
     "output_type": "display_data"
    }
   ],
   "source": [
    "S0 = 100.0\n",
    "numPath = 100000\n",
    "r = 0.02\n",
    "T = 1.0\n",
    "H = 90\n",
    "K = 100\n",
    "sigmaP = 0.2\n",
    "sigmaQ = 0.2\n",
    "\n",
    "dts = np.arange(0.0, T, 0.005)\n",
    "T = dts[-1]\n",
    "\n",
    "putStrikes = [90.0, 100.0]\n",
    "callStrikes = [100.0, 102.5, 105.0]\n",
    "\n",
    "(S_P, W_P) = BlackScholesExactSimulationSobol(S0, dts, r, sigmaP, numPath)\n",
    "(S_Q, W_Q) = BlackScholesExactSimulationSobol(S0, dts, r, sigmaQ, numPath)\n",
    "\n",
    "S_PT = S_P[-1]\n",
    "S_QT = S_Q[-1]\n",
    "\n",
    "payoffs_P, vlabels = TerminalVanillaPayoff(putStrikes, callStrikes, S_PT)\n",
    "payoffs_Q, vlabels = TerminalVanillaPayoff(putStrikes, callStrikes, S_QT)\n",
    "\n",
    "prices_P = np.mean(payoffs_P, 1) * np.exp(-r*T)\n",
    "prices_Q = np.mean(payoffs_Q, 1) * np.exp(-r*T)\n",
    "\n",
    "gammas = [0.00, 0.05, 0.1, 0.5, 1.0, 3.0]\n",
    "bP = np.maximum(S_PT - K, 0.0) * (np.min(S_P,axis=0) > H)\n",
    "bQ = np.maximum(S_QT - K, 0.0) * (np.min(S_Q,axis=0) > H)\n",
    "\n",
    "lambdaList = []\n",
    "wbList = []\n",
    "portList = []\n",
    "\n",
    "for gamma in gammas:\n",
    "    prices_tiled = np.tile(prices_Q, numPath).reshape(numPath, -1).T\n",
    "    n_assets = prices_tiled.shape[0]\n",
    "\n",
    "    deltas = np.array(payoffs_P) - prices_tiled\n",
    "\n",
    "    def W0(lambdas):\n",
    "        n_assets = deltas.shape[0]\n",
    "        n_paths = deltas.shape[1]\n",
    "        return np.log(np.sum(np.exp(np.matmul(lambdas, deltas) + bP*gamma) / n_assets))\n",
    "\n",
    "    lambdas = fmin_bfgs(W0, np.zeros(n_assets), disp=0)\n",
    "    wb = W0(lambdas)\n",
    "    wbList.append(wb)\n",
    "    lambdaList.append(lambdas)\n",
    "    \n",
    "    Z0 = np.sum(np.exp(np.matmul(lambdas, deltas)) / n_assets)\n",
    "    m = (np.exp(np.matmul(lambdas, deltas)) / n_assets) / Z0\n",
    "    n = np.ones(numPath) * (1/numPath)\n",
    "    l = np.mean(np.log(n/m))\n",
    "    \n",
    "    if gamma == 0:\n",
    "        m_0 = m\n",
    "        w_0 = wb\n",
    "        print(gamma, -lambdas)\n",
    "    else:\n",
    "        portList.append((-lambdas / gamma))\n",
    "        print(gamma, np.dot((-lambdas / gamma), prices_Q))\n",
    "        \n",
    "df = pd.DataFrame()\n",
    "sList = []\n",
    "\n",
    "s0 = pd.Series(np.array(portList)[:,0], index=gammas[1:], name=vlabels[0])\n",
    "s1 = pd.Series(np.array(portList)[:,1], index=gammas[1:], name=vlabels[1])\n",
    "s2 = pd.Series(np.array(portList)[:,2], index=gammas[1:], name=vlabels[2])\n",
    "s3 = pd.Series(np.array(portList)[:,3], index=gammas[1:], name=vlabels[3])\n",
    "s4 = pd.Series(np.array(portList)[:,4], index=gammas[1:], name=vlabels[4])\n",
    "\n",
    "df = pd.DataFrame([s0,s1,s2,s3, s4])\n",
    "df.plot.bar()\n",
    "\n",
    "print()\n",
    "print('Indifference Prices')\n",
    "print((wbList[1:] - w_0)/gammas[1:])\n",
    "print()\n",
    "print('Risk Neutral Price')\n",
    "print(np.mean(bQ))\n",
    "print(np.sum(m_0 * bP))\n"
   ]
  },
  {
   "cell_type": "code",
   "execution_count": 3011,
   "id": "3dc1ff22-8b73-4e5f-975b-a6b778f87f08",
   "metadata": {},
   "outputs": [
    {
     "data": {
      "text/plain": [
       "9.008220090319805"
      ]
     },
     "execution_count": 3011,
     "metadata": {},
     "output_type": "execute_result"
    }
   ],
   "source": [
    "np.sum(np.array(portList)[3,:] * prices_Q)"
   ]
  },
  {
   "cell_type": "code",
   "execution_count": 3029,
   "id": "e24485fe-5d4e-4bd1-b2e2-9dd462a5e04b",
   "metadata": {},
   "outputs": [
    {
     "data": {
      "text/plain": [
       "<matplotlib.legend.Legend at 0x7ff5706317d0>"
      ]
     },
     "execution_count": 3029,
     "metadata": {},
     "output_type": "execute_result"
    },
    {
     "data": {
      "image/png": "[encoded data removed]",
      "text/plain": [
       "<Figure size 1008x864 with 1 Axes>"
      ]
     },
     "metadata": {},
     "output_type": "display_data"
    }
   ],
   "source": [
    "import time\n",
    "\n",
    "S0 = 100.0\n",
    "numPath = 20000\n",
    "K = 100.0\n",
    "r = 0.02\n",
    "H = 90.0\n",
    "sigmaP = 0.2\n",
    "sigmaQ = 0.25\n",
    "dts = [0.0, 0.5, 1.0]\n",
    "T = dts[len(dts)-1]\n",
    "grid = 200\n",
    "dt = T / grid\n",
    "\n",
    "spval = []\n",
    "mse = []\n",
    "abserr = []\n",
    "#np.random.seed(0)\n",
    "\n",
    "spSim = np.linspace(0.0, T, num=grid)\n",
    "spSim = np.sort(np.unique(np.hstack([spSim, dts])))\n",
    "\n",
    "(SAll_P, WAll_P) = BlackScholesExactSimulationSobol(S0, spSim, r, sigmaP, numPath)\n",
    "(SAll_Q, WAll_Q) = BlackScholesExactSimulationSobol(S0, spSim, r, sigmaQ, numPath)\n",
    "\n",
    "S_P = np.vstack([SAll_P[0], SAll_P[spSim.tolist().index(dts[1])], SAll_P[-1]])\n",
    "S_Q = np.vstack([SAll_Q[0], SAll_Q[spSim.tolist().index(dts[1])], SAll_Q[-1]])\n",
    "\n",
    "S_PT = S_P[-1]\n",
    "S_QT = S_Q[-1]\n",
    "\n",
    "bP = np.maximum(S_PT - K, 0.0) * (np.min(S_P,axis=0) > H)\n",
    "bQ = np.maximum(S_QT - K, 0.0) * (np.min(S_Q,axis=0) > H)\n",
    "\n",
    "sp = np.linspace(1.0, 99.0, num=50)\n",
    "sp = np.percentile(S_P[1],sp)\n",
    "\n",
    "payoffs_P, vlabels = TerminalVanillaPayoff(putStrikes, callStrikes, S_PT)\n",
    "payoffs_Q, vlabels = TerminalVanillaPayoff(putStrikes, callStrikes, S_QT)\n",
    "\n",
    "port_tiled = np.tile(portList[3], numPath).reshape(numPath, -1).T\n",
    "port = np.sum(payoffs_P * port_tiled,0)\n",
    "res = bP - port\n",
    "\n",
    "payoffs = []\n",
    "values = []\n",
    "payoffs.append(bP)\n",
    "payoffs.append(port)\n",
    "payoffs.append(res)\n",
    "\n",
    "for p in payoffs:\n",
    "    kout = []\n",
    "    priceout = []\n",
    "    varout = []\n",
    "    covarout = []\n",
    "    deltaout = []\n",
    "    S2out = []\n",
    "    derivout = []\n",
    "    deriv2out = []\n",
    "    \n",
    "    #Silverman's rule of thumb\n",
    "    payoff = p\n",
    "    payoff_stdev = math.sqrt(np.var(S_PT))\n",
    "    eps = 1.0 / (0.9 * payoff_stdev * numPath ** (-0.2))\n",
    "    eps /= 1.0\n",
    "\n",
    "    for start in sp:\n",
    "        k = np.exp(-eps * (S[1] - start)**2)\n",
    "        kout.append(np.sum(k) + 1e-7)\n",
    "\n",
    "    kRatio = max(kout) / kout\n",
    "    kRatio = np.minimum(10.0, max(kout) / kout)\n",
    "\n",
    "    #kernel regression\n",
    "    for idx, start in enumerate(sp):\n",
    "        epsBS = eps\n",
    "        epsBS /= kRatio[idx]\n",
    "        k = np.exp(-epsBS * (S_P[1] - start)**2) + 1e-10\n",
    "\n",
    "        #excl anything that already knocked out\n",
    "        #k[np.min(SAll_P[0:np.argmin(spSim < dts[1])], axis=0) < H] = 0.0\n",
    "\n",
    "        diff = (S_P[1] - start)\n",
    "        kd = k * diff\n",
    "        kd2 = kd *  diff\n",
    "        wll = k * np.sum(kd2) - diff * k * np.sum(kd)\n",
    "        wllsum = np.sum(wll) + 1e-10\n",
    "\n",
    "        kout.append(np.sum(k))\n",
    "        yprice = p\n",
    "\n",
    "        #Have to discount by the future price\n",
    "        S2Avg = np.sum(S_P[2] * wll) / wllsum\n",
    "        S2Avg *= math.exp(-r*(dts[2] - dts[1]))\n",
    "        S2out.append(S2Avg)\n",
    "\n",
    "        fitprice = np.sum(yprice*wll) / wllsum\n",
    "        if start < H:\n",
    "            fitprice = 0.0\n",
    "            payoffDeriv = 0.0\n",
    "\n",
    "        priceout.append(fitprice)\n",
    "        derivout.append(np.sum(payoffDeriv*wll) / wllsum)\n",
    "\n",
    "        ycov = (payoff - fitprice) * (S_P[2] - S2Avg)\n",
    "        covarout.append(np.sum(ycov*wll) / wllsum)\n",
    "        y = (S_P[2] - S2Avg)**2\n",
    "        varout.append(np.sum(y*wll) / wllsum)\n",
    "        # fill NAs using forward fill\n",
    "\n",
    "    beta = pd.array(np.array(covarout)/np.array(varout)).fillna(method='ffill').fillna(method='bfill')\n",
    "    #beta = np.array(derivout)\n",
    "    #beta = 0\n",
    "\n",
    "    # Instantiate a Gaussian Process model, with an initial alpha of the full payoff sample std dev\n",
    "    kernel = ConstantKernel(1.0, (1e-3, 1e10)) * RBF(1.5, (1e-3, 1e10))\n",
    "    gp = GaussianProcessRegressor(kernel=kernel, alpha=0.01, n_restarts_optimizer=5)\n",
    "    gp.fit(np.atleast_2d(sp).T,  (np.array(priceout) + beta * (sp - S2out)))\n",
    "    y_pred, gp_sigma = gp.predict(np.atleast_2d(sp).T, return_std=True)\n",
    "    y_pred = np.array(y_pred) * math.exp(-r*(dts[2] - dts[1]))\n",
    "    values.append(y_pred)\n",
    "\n",
    "plt.figure(figsize = [14, 12])\n",
    "plt.plot(np.atleast_2d(sp).T, values[0], 'r', label='Payoff')\n",
    "plt.plot(np.atleast_2d(sp).T, values[1], 'b', label='Portfolio')\n",
    "#plt.plot(np.atleast_2d(sp).T, values[2], 'g', label='Residual')\n",
    "plt.legend()\n",
    "#plt.plot(np.atleast_2d(sp).T, truePrice, 'b', label='Prediction')\n",
    "#plt.plot(np.atleast_2d(sp).T, np.array(priceout) * math.exp(-r*(dts[2] - dts[1])), 'g', label='Prediction')"
   ]
  },
  {
   "cell_type": "code",
   "execution_count": 3032,
   "id": "48a58398-27fc-432c-a05d-96c6351fbf2f",
   "metadata": {},
   "outputs": [
    {
     "data": {
      "text/plain": [
       "[<matplotlib.lines.Line2D at 0x7ff643b32450>]"
      ]
     },
     "execution_count": 3032,
     "metadata": {},
     "output_type": "execute_result"
    },
    {
     "data": {
      "image/png": "[encoded data removed]",
      "text/plain": [
       "<Figure size 1008x864 with 1 Axes>"
      ]
     },
     "metadata": {},
     "output_type": "display_data"
    }
   ],
   "source": [
    "plt.figure(figsize = [14, 12])\n",
    "plt.plot(np.atleast_2d(sp).T, values[2], 'g', label='Residual')"
   ]
  },
  {
   "cell_type": "code",
   "execution_count": 3033,
   "id": "a8940f1e-aecb-406c-b958-e5e72f9d0764",
   "metadata": {},
   "outputs": [
    {
     "data": {
      "text/plain": [
       "[array([-0.65566012,  0.59078685,  3.37465794, -3.9210998 ,  1.58345231]),\n",
       " array([-0.32878185,  0.29625165,  1.98020313, -1.87751812,  0.93453657]),\n",
       " array([-0.06737211,  0.0607071 ,  0.92029991,  0.05418575,  0.04229981]),\n",
       " array([-0.03593702,  0.03238241,  0.88827039,  0.17396502, -0.05354156]),\n",
       " array([-0.0140863 ,  0.01269165,  0.95161692,  0.08693226, -0.03569026])]"
      ]
     },
     "execution_count": 3033,
     "metadata": {},
     "output_type": "execute_result"
    }
   ],
   "source": [
    "portList"
   ]
  },
  {
   "cell_type": "code",
   "execution_count": 3035,
   "id": "85b35eb0-16ee-45ca-a75b-368fbc5734ee",
   "metadata": {},
   "outputs": [],
   "source": [
    "import time\n",
    "\n",
    "S0 = 100.0\n",
    "numPath = 100000\n",
    "K = 100.0\n",
    "r = 0.02\n",
    "H = 90.0\n",
    "sigmaP = 0.2\n",
    "sigmaQ = 0.2\n",
    "dts = [0.0, 0.5, 1.0]\n",
    "T = dts[len(dts)-1]\n",
    "grid = 200\n",
    "dt = T / grid\n",
    "\n",
    "spval = []\n",
    "mse = []\n",
    "abserr = []\n",
    "#np.random.seed(0)\n",
    "\n",
    "spSim = np.linspace(0.0, T, num=grid)\n",
    "spSim = np.sort(np.unique(np.hstack([spSim, dts])))\n",
    "\n",
    "(SAll_P, WAll_P) = BlackScholesExactSimulationSobol(S0, spSim, r, sigmaP, numPath)\n",
    "(SAll_Q, WAll_Q) = BlackScholesExactSimulationSobol(S0, spSim, r, sigmaQ, numPath)\n",
    "\n",
    "S_P = np.vstack([SAll_P[0], SAll_P[spSim.tolist().index(dts[1])], SAll_P[-1]])\n",
    "S_Q = np.vstack([SAll_Q[0], SAll_Q[spSim.tolist().index(dts[1])], SAll_Q[-1]])\n",
    "\n",
    "S_PT = S_P[-1]\n",
    "S_QT = S_Q[-1]\n",
    "\n",
    "bP = np.maximum(S_PT - K, 0.0) * (np.min(S_P,axis=0) > H)\n",
    "bQ = np.maximum(S_QT - K, 0.0) * (np.min(S_Q,axis=0) > H)\n",
    "\n",
    "sp = np.linspace(1.0, 99.0, num=50)\n",
    "sp = np.percentile(S_P[1],sp)\n",
    "\n",
    "payoffs_P, vlabels = TerminalVanillaPayoff(putStrikes, callStrikes, S_PT)\n",
    "payoffs_Q, vlabels = TerminalVanillaPayoff(putStrikes, callStrikes, S_QT)\n",
    "\n",
    "values = []\n",
    "\n",
    "for i in range(len(portList)):\n",
    "    port_tiled = np.tile(portList[i], numPath).reshape(numPath, -1).T\n",
    "    port = np.sum(payoffs_P * port_tiled,0)\n",
    "    res = bP - port\n",
    "\n",
    "    payoffs = []\n",
    "    payoffs.append(res)\n",
    "\n",
    "    for p in payoffs:\n",
    "        kout = []\n",
    "        priceout = []\n",
    "        varout = []\n",
    "        covarout = []\n",
    "        deltaout = []\n",
    "        S2out = []\n",
    "        derivout = []\n",
    "        deriv2out = []\n",
    "\n",
    "        #Silverman's rule of thumb\n",
    "        payoff = p\n",
    "        payoff_stdev = math.sqrt(np.var(S_PT))\n",
    "        eps = 1.0 / (0.9 * payoff_stdev * numPath ** (-0.2))\n",
    "        eps /= 10.0\n",
    "\n",
    "        for start in sp:\n",
    "            k = np.exp(-eps * (S[1] - start)**2)\n",
    "            kout.append(np.sum(k) + 1e-7)\n",
    "\n",
    "        kRatio = max(kout) / kout\n",
    "        kRatio = np.minimum(10.0, max(kout) / kout)\n",
    "\n",
    "        #kernel regression\n",
    "        for idx, start in enumerate(sp):\n",
    "            epsBS = eps\n",
    "            epsBS /= kRatio[idx]\n",
    "            k = np.exp(-epsBS * (S_P[1] - start)**2) + 1e-10\n",
    "\n",
    "            #excl anything that already knocked out\n",
    "            #k[np.min(SAll_P[0:np.argmin(spSim < dts[1])], axis=0) < H] = 0.0\n",
    "\n",
    "            diff = (S_P[1] - start)\n",
    "            kd = k * diff\n",
    "            kd2 = kd *  diff\n",
    "            wll = k * np.sum(kd2) - diff * k * np.sum(kd)\n",
    "            wllsum = np.sum(wll) + 1e-10\n",
    "\n",
    "            kout.append(np.sum(k))\n",
    "            yprice = p\n",
    "\n",
    "            #Have to discount by the future price\n",
    "            S2Avg = np.sum(S_P[2] * wll) / wllsum\n",
    "            S2Avg *= math.exp(-r*(dts[2] - dts[1]))\n",
    "            S2out.append(S2Avg)\n",
    "\n",
    "            fitprice = np.sum(yprice*wll) / wllsum\n",
    "            if start < H:\n",
    "                fitprice = 0.0\n",
    "                payoffDeriv = 0.0\n",
    "\n",
    "            priceout.append(fitprice)\n",
    "            derivout.append(np.sum(payoffDeriv*wll) / wllsum)\n",
    "\n",
    "            ycov = (payoff - fitprice) * (S_P[2] - S2Avg)\n",
    "            covarout.append(np.sum(ycov*wll) / wllsum)\n",
    "            y = (S_P[2] - S2Avg)**2\n",
    "            varout.append(np.sum(y*wll) / wllsum)\n",
    "            # fill NAs using forward fill\n",
    "\n",
    "        beta = pd.array(np.array(covarout)/np.array(varout)).fillna(method='ffill').fillna(method='bfill')\n",
    "        #beta = np.array(derivout)\n",
    "        #beta = 0\n",
    "\n",
    "        # Instantiate a Gaussian Process model, with an initial alpha of the full payoff sample std dev\n",
    "        kernel = ConstantKernel(1.0, (1e-3, 1e10)) * RBF(1.5, (1e-3, 1e10))\n",
    "        gp = GaussianProcessRegressor(kernel=kernel, alpha=0.01, n_restarts_optimizer=5)\n",
    "        gp.fit(np.atleast_2d(sp).T,  (np.array(priceout) + beta * (sp - S2out)))\n",
    "        y_pred, gp_sigma = gp.predict(np.atleast_2d(sp).T, return_std=True)\n",
    "        y_pred = np.array(y_pred) * math.exp(-r*(dts[2] - dts[1]))\n",
    "        values.append(y_pred)\n"
   ]
  },
  {
   "cell_type": "code",
   "execution_count": 3036,
   "id": "832fd1e3-0b37-4073-aa1e-2cac3a6f2d4f",
   "metadata": {},
   "outputs": [
    {
     "data": {
      "text/plain": [
       "<matplotlib.legend.Legend at 0x7ff56066b090>"
      ]
     },
     "execution_count": 3036,
     "metadata": {},
     "output_type": "execute_result"
    },
    {
     "data": {
      "image/png": "[encoded data removed]",
      "text/plain": [
       "<Figure size 1008x864 with 1 Axes>"
      ]
     },
     "metadata": {},
     "output_type": "display_data"
    }
   ],
   "source": [
    "plt.figure(figsize = [14, 12])\n",
    "for idx in range(len(portList)):\n",
    "    plt.plot(sp, values[idx], label=gammas[idx+1])\n",
    "\n",
    "plt.legend()"
   ]
  },
  {
   "cell_type": "code",
   "execution_count": 3028,
   "id": "33011676-7131-4600-817c-7422e07f6920",
   "metadata": {},
   "outputs": [
    {
     "data": {
      "text/plain": [
       "[array([-0.65566012,  0.59078685,  3.37465794, -3.9210998 ,  1.58345231]),\n",
       " array([-0.32878185,  0.29625165,  1.98020313, -1.87751812,  0.93453657]),\n",
       " array([-0.06737211,  0.0607071 ,  0.92029991,  0.05418575,  0.04229981]),\n",
       " array([-0.03593702,  0.03238241,  0.88827039,  0.17396502, -0.05354156]),\n",
       " array([-0.0140863 ,  0.01269165,  0.95161692,  0.08693226, -0.03569026])]"
      ]
     },
     "execution_count": 3028,
     "metadata": {},
     "output_type": "execute_result"
    }
   ],
   "source": [
    "portList"
   ]
  },
  {
   "cell_type": "code",
   "execution_count": null,
   "id": "e76d8412-86c7-491c-8394-785b2794ee1d",
   "metadata": {},
   "outputs": [],
   "source": []
  }
 ],
 "metadata": {
  "kernelspec": {
   "display_name": "Python 3",
   "language": "python",
   "name": "python3"
  },
  "language_info": {
   "codemirror_mode": {
    "name": "ipython",
    "version": 3
   },
   "file_extension": ".py",
   "mimetype": "text/x-python",
   "name": "python",
   "nbconvert_exporter": "python",
   "pygments_lexer": "ipython3",
   "version": "3.7.4"
  }
 },
 "nbformat": 4,
 "nbformat_minor": 5
}
